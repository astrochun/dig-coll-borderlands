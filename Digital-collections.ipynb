{
 "cells": [
  {
   "cell_type": "markdown",
   "metadata": {},
   "source": [
    "# Introduction to Jupyter Notebooks\n",
    "This lesson will introduce the Jupyter Notebook interface. We will use the interface to run and write, yes, write, some Python code for text data analysis.\n",
    "\n",
    "By the end of this lesson, learners should be able to:\n",
    "1. Explain the difference between markdown and code blocks in Jupyter Notebooks\n",
    "2. Execute pre-written Python code to analyze newspaper text\n",
    "3. Modify Python code to change the settings of the analysis"
   ]
  },
  {
   "cell_type": "markdown",
   "metadata": {},
   "source": [
    "## What is this Jupyter Notebook thing?"
   ]
  },
  {
   "cell_type": "markdown",
   "metadata": {},
   "source": [
    "Jupyter Notebooks are effectively made up of \"cells\". We can start by thinking of each cell being equivalent to a paragraph on a page. There is an order in which paragraphs and cells appear, and that order matters. In Jupyter Notebooks, the cells come in two flavors and a single notebook (like the one we are working in now) with have both types of cells. \n",
    "+ The first is called \"markdown\", which is text, like you are reading now. We can use some syntax in the text to format the cells in particular ways. For example, we can create italic text by using the underscore symbol (\"\\_\") at the beginning and ending of the text we want to italicize. So when we write \"\\_italic\\_\" in a markdown block, it will show up as _italic_.\n",
    "+ The second kind of cell is a \"code\" cell, that contains computer code in a language like Python or R. This is where the fun comes in."
   ]
  },
  {
   "cell_type": "markdown",
   "metadata": {},
   "source": [
    "**Do some markdown stuff?**"
   ]
  },
  {
   "cell_type": "code",
   "execution_count": 1,
   "metadata": {},
   "outputs": [
    {
     "name": "stdout",
     "output_type": "stream",
     "text": [
      "Collections as Data\n"
     ]
    }
   ],
   "source": [
    "print(\"Collections as Data\")"
   ]
  },
  {
   "cell_type": "markdown",
   "metadata": {},
   "source": [
    "## So what is Python then?"
   ]
  },
  {
   "cell_type": "markdown",
   "metadata": {},
   "source": [
    "Add brief explantion of python?"
   ]
  },
  {
   "cell_type": "code",
   "execution_count": 2,
   "metadata": {},
   "outputs": [
    {
     "name": "stdout",
     "output_type": "stream",
     "text": [
      "Hello World\n"
     ]
    }
   ],
   "source": [
    "print(\"Hello World\")"
   ]
  },
  {
   "cell_type": "markdown",
   "metadata": {},
   "source": [
    "**talk about what we are going to do**"
   ]
  },
  {
   "cell_type": "code",
   "execution_count": 3,
   "metadata": {},
   "outputs": [],
   "source": [
    "# This may need to happen first, to get stopwords downloaded to all learners' home folder?\n",
    "# import nltk\n",
    "# nltk.download('stopwords')"
   ]
  },
  {
   "cell_type": "code",
   "execution_count": 4,
   "metadata": {},
   "outputs": [],
   "source": [
    "# import stuff and run it\n",
    "import pandas\n",
    "import nltk\n",
    "from nltk.corpus import stopwords\n",
    "from nltk.tokenize import RegexpTokenizer"
   ]
  },
  {
   "cell_type": "markdown",
   "metadata": {},
   "source": [
    "get the data and roadmap where we want to go. Maybe whiteboard the entire process?"
   ]
  },
  {
   "cell_type": "code",
   "execution_count": 5,
   "metadata": {},
   "outputs": [
    {
     "name": "stdout",
     "output_type": "stream",
     "text": [
      "data/border-vidette/volumes/19190104.txt\n"
     ]
    }
   ],
   "source": [
    "# download data and do a little reality check\n",
    "title_1 = \"border-vidette\"\n",
    "year = \"1919\"\n",
    "month = \"01\"\n",
    "day = \"04\"\n",
    "filename = \"data/\" + title_1 + \"/volumes/\" + year + month + day + \".txt\"\n",
    "print(filename)"
   ]
  },
  {
   "cell_type": "code",
   "execution_count": 6,
   "metadata": {},
   "outputs": [
    {
     "name": "stdout",
     "output_type": "stream",
     "text": [
      "rVrritoria' Library State House\n",
      "NTY-SEVENTH YEAR.\n",
      "NOGALES, SANTA CRUZ COUNTY. ARIZONA, JANUARY 4, 1919.\n",
      "No. 1.\n",
      "I\n",
      "- ..;..n.\n",
      "ANGLO-AMERICAN\n",
      "COAT POCKET FLASHLIGHTS\n",
      "FLAT OPENING\n",
      "OR\n",
      "CIGARETTE CASE STYLE\n",
      "i\n"
     ]
    }
   ],
   "source": [
    "# open the file so we can read the text from it\n",
    "file = open(filename, \"r\")\n",
    "# read the file and store in variable issue_text\n",
    "issue_text = file.read()\n",
    "# close the file after reading in the text\n",
    "file.close()\n",
    "# print the first 200 characters of the text\n",
    "print(issue_text[0:200])"
   ]
  },
  {
   "cell_type": "markdown",
   "metadata": {},
   "source": [
    "Word tokenizing"
   ]
  },
  {
   "cell_type": "code",
   "execution_count": 7,
   "metadata": {},
   "outputs": [
    {
     "name": "stdout",
     "output_type": "stream",
     "text": [
      "['library', 'state', 'house', 'nty', 'seventh', 'year', 'nogales', 'santa', 'cruz']\n"
     ]
    }
   ],
   "source": [
    "# convert everything to lower case (otherwise \"House\" and \"house\" are considered different words)\n",
    "issue_text = issue_text.lower()\n",
    "\n",
    "# remove punctuation and \"tokenize\"\n",
    "tokenizer = RegexpTokenizer(r'\\w+')\n",
    "issue_text = tokenizer.tokenize(issue_text)\n",
    "\n",
    "# look at first ten words in the output\n",
    "print(issue_text[1:10])"
   ]
  },
  {
   "cell_type": "markdown",
   "metadata": {},
   "source": [
    "some word counting before removing stopwords\n",
    "\n",
    "Could leave line 4 with an error in it (value_count instead of value_counts)"
   ]
  },
  {
   "cell_type": "code",
   "execution_count": 8,
   "metadata": {},
   "outputs": [
    {
     "name": "stdout",
     "output_type": "stream",
     "text": [
      "the    570\n",
      "of     417\n",
      "and    279\n",
      "a      223\n",
      "to     195\n",
      "in     174\n",
      "at     107\n",
      "is      96\n",
      "for     89\n",
      "i       77\n",
      "dtype: int64\n"
     ]
    }
   ],
   "source": [
    "# make a table with words in it\n",
    "word_table = pandas.Series(issue_text)\n",
    "# count how many times each word occurs\n",
    "word_counts = word_table.value_counts()\n",
    "# print the top ten most common words and their respective counts\n",
    "print(word_counts.head(n = 10))"
   ]
  },
  {
   "cell_type": "markdown",
   "metadata": {},
   "source": [
    "removal of stopwords and maybe single characters?"
   ]
  },
  {
   "cell_type": "code",
   "execution_count": 9,
   "metadata": {
    "scrolled": true
   },
   "outputs": [
    {
     "name": "stdout",
     "output_type": "stream",
     "text": [
      "arizona    71\n",
      "nogales    62\n",
      "j          55\n",
      "w          34\n",
      "r          34\n",
      "f          33\n",
      "state      27\n",
      "e          25\n",
      "year       23\n",
      "p          23\n",
      "dtype: int64\n"
     ]
    }
   ],
   "source": [
    "# load the appropriate corpora\n",
    "stop_words = set(stopwords.words('english'))\n",
    "\n",
    "# remove stopwords\n",
    "filtered_words = []\n",
    "for word in issue_text:\n",
    "    if word not in stop_words:\n",
    "        filtered_words.append(word)\n",
    "\n",
    "# Recalculate word counts\n",
    "word_table = pandas.Series(filtered_words)\n",
    "# count how many times each word occurs\n",
    "word_counts = word_table.value_counts()\n",
    "# print the top ten most common words and their respective counts\n",
    "print(word_counts.head(n = 10))"
   ]
  },
  {
   "cell_type": "code",
   "execution_count": 10,
   "metadata": {},
   "outputs": [
    {
     "name": "stdout",
     "output_type": "stream",
     "text": [
      "arizona     71\n",
      "nogales     62\n",
      "state       27\n",
      "year        23\n",
      "business    21\n",
      "one         21\n",
      "ed          21\n",
      "people      20\n",
      "co          20\n",
      "day         20\n",
      "dtype: int64\n"
     ]
    }
   ],
   "source": [
    "# remove stop words AND single letter words\n",
    "filtered_words = []\n",
    "for word in issue_text:\n",
    "    if word not in stop_words:\n",
    "        if len(word) > 1:\n",
    "            filtered_words.append(word)\n",
    "\n",
    "# Recalculate word counts\n",
    "word_table = pandas.Series(filtered_words)\n",
    "# count how many times each word occurs\n",
    "word_counts = word_table.value_counts()\n",
    "# print the top ten most common words and their respective counts\n",
    "print(word_counts.head(n = 10))"
   ]
  },
  {
   "cell_type": "code",
   "execution_count": 11,
   "metadata": {},
   "outputs": [
    {
     "name": "stdout",
     "output_type": "stream",
     "text": [
      "arizona     0.011356\n",
      "nogales     0.009917\n",
      "state       0.004319\n",
      "year        0.003679\n",
      "business    0.003359\n",
      "one         0.003359\n",
      "ed          0.003359\n",
      "people      0.003199\n",
      "co          0.003199\n",
      "day         0.003199\n",
      "dtype: float64\n"
     ]
    }
   ],
   "source": [
    "# instead of counts, return relative frequencies\n",
    "word_freqs = word_table.value_counts(normalize = True)\n",
    "# print the top ten most frequent words\n",
    "print(word_freqs.head(n = 10))"
   ]
  },
  {
   "cell_type": "markdown",
   "metadata": {},
   "source": [
    "## Beyond counting\n",
    "There is a lot more we can do more than just count words. For example, we can look for specific words and see how their frequency changes over time. Given the publication dates of the newspapers we are looking at and current events, we can look at the frequency of the words \"flu\" and \"influenza\". And see how this frequency is changing over time."
   ]
  },
  {
   "cell_type": "code",
   "execution_count": 12,
   "metadata": {
    "scrolled": true
   },
   "outputs": [
    {
     "name": "stdout",
     "output_type": "stream",
     "text": [
      "flu          4\n",
      "influenza    3\n",
      "dtype: int64\n"
     ]
    }
   ],
   "source": [
    "# Search for \"flu\" and \"influenza\" in one volume of interest (middle of influenza pandemic)\n",
    "influenza_words = ['flu', 'influenza']\n",
    "influenza_freq = word_counts.filter(influenza_words)\n",
    "print(influenza_freq)"
   ]
  },
  {
   "cell_type": "markdown",
   "metadata": {},
   "source": [
    "Now get relative frequency for all volumes in a year"
   ]
  },
  {
   "cell_type": "code",
   "execution_count": 46,
   "metadata": {},
   "outputs": [
    {
     "data": {
      "text/html": [
       "<div>\n",
       "<style scoped>\n",
       "    .dataframe tbody tr th:only-of-type {\n",
       "        vertical-align: middle;\n",
       "    }\n",
       "\n",
       "    .dataframe tbody tr th {\n",
       "        vertical-align: top;\n",
       "    }\n",
       "\n",
       "    .dataframe thead th {\n",
       "        text-align: right;\n",
       "    }\n",
       "</style>\n",
       "<table border=\"1\" class=\"dataframe\">\n",
       "  <thead>\n",
       "    <tr style=\"text-align: right;\">\n",
       "      <th></th>\n",
       "      <th>Date</th>\n",
       "      <th>Frequency</th>\n",
       "    </tr>\n",
       "  </thead>\n",
       "  <tbody>\n",
       "    <tr>\n",
       "      <th>0</th>\n",
       "      <td>1917-01-06</td>\n",
       "      <td>0.0</td>\n",
       "    </tr>\n",
       "    <tr>\n",
       "      <th>1</th>\n",
       "      <td>1917-01-13</td>\n",
       "      <td>0.0</td>\n",
       "    </tr>\n",
       "    <tr>\n",
       "      <th>2</th>\n",
       "      <td>1917-01-20</td>\n",
       "      <td>0.0</td>\n",
       "    </tr>\n",
       "    <tr>\n",
       "      <th>3</th>\n",
       "      <td>1917-01-27</td>\n",
       "      <td>0.0</td>\n",
       "    </tr>\n",
       "    <tr>\n",
       "      <th>4</th>\n",
       "      <td>1917-02-03</td>\n",
       "      <td>0.0</td>\n",
       "    </tr>\n",
       "  </tbody>\n",
       "</table>\n",
       "</div>"
      ],
      "text/plain": [
       "         Date  Frequency\n",
       "0  1917-01-06        0.0\n",
       "1  1917-01-13        0.0\n",
       "2  1917-01-20        0.0\n",
       "3  1917-01-27        0.0\n",
       "4  1917-02-03        0.0"
      ]
     },
     "execution_count": 46,
     "metadata": {},
     "output_type": "execute_result"
    }
   ],
   "source": [
    "# Loop over all volumes in a single year, calculating frequency of flu and influenza for each volume\n",
    "import os\n",
    "import re\n",
    "\n",
    "flu_words = [\"flu\", \"influenza\"]\n",
    "# Create a pattern than matches all Border Vidette papers from 1917 through 1932\n",
    "date_pattern = re.compile(\"19((1[789])|(2[0-9])|(3[012]))([0-9]{4})*\")\n",
    "\n",
    "# List all the Border Vidette files\n",
    "bv_volumes = os.listdir(\"data/border-vidette/volumes\")\n",
    "\n",
    "# Use date pattern from above to restrict to dates of interest\n",
    "bv_volumes = list(filter(date_pattern.match, bv_volumes))\n",
    "bv_volumes.sort()\n",
    "\n",
    "# Create a table that will hold the relative frequency for each date\n",
    "#flu_table = pandas.DataFrame(columns = [\"Date\", \"Frequency\"])\n",
    "dates = [str(d[0:4]) + \"-\" + str(d[4:6]) + \"-\" + str(d[6:8]) for d in bv_volumes]\n",
    "# Add those dates to a data frame\n",
    "flu_table = pandas.DataFrame(dates, columns = [\"Date\"])\n",
    "flu_table[\"Frequency\"] = 0.0\n",
    "\n",
    "# Look at top of table for reality check\n",
    "flu_table.head()"
   ]
  },
  {
   "cell_type": "code",
   "execution_count": 44,
   "metadata": {},
   "outputs": [
    {
     "data": {
      "text/html": [
       "<div>\n",
       "<style scoped>\n",
       "    .dataframe tbody tr th:only-of-type {\n",
       "        vertical-align: middle;\n",
       "    }\n",
       "\n",
       "    .dataframe tbody tr th {\n",
       "        vertical-align: top;\n",
       "    }\n",
       "\n",
       "    .dataframe thead th {\n",
       "        text-align: right;\n",
       "    }\n",
       "</style>\n",
       "<table border=\"1\" class=\"dataframe\">\n",
       "  <thead>\n",
       "    <tr style=\"text-align: right;\">\n",
       "      <th></th>\n",
       "      <th>Date</th>\n",
       "      <th>Frequency</th>\n",
       "    </tr>\n",
       "  </thead>\n",
       "  <tbody>\n",
       "    <tr>\n",
       "      <th>96</th>\n",
       "      <td>1918-11-16</td>\n",
       "      <td>0.000838</td>\n",
       "    </tr>\n",
       "  </tbody>\n",
       "</table>\n",
       "</div>"
      ],
      "text/plain": [
       "         Date  Frequency\n",
       "96 1918-11-16   0.000838"
      ]
     },
     "execution_count": 44,
     "metadata": {},
     "output_type": "execute_result"
    }
   ],
   "source": [
    "# Loop over all files\n",
    "# calculate relative frequency of flu and influenza for each date\n",
    "# record in the data table\n",
    "bv_file_locations = (\"data/border-vidette/volumes/\")\n",
    "\n",
    "for one_issue in bv_volumes:\n",
    "    # Read in text\n",
    "    issue_location = bv_file_locations + one_issue\n",
    "    issue_file = open(issue_location, \"r\")\n",
    "    issue_text = issue_file.read()\n",
    "    issue_file.close()\n",
    "    \n",
    "    # convert to lower case\n",
    "    issue_text = issue_text.lower()\n",
    "    issue_text = tokenizer.tokenize(issue_text)\n",
    "    \n",
    "    # remove stopwords\n",
    "    filtered_words = []\n",
    "    for word in issue_text:\n",
    "        if word not in stop_words:\n",
    "            if len(word) > 1:\n",
    "                filtered_words.append(word)\n",
    "\n",
    "    # make a table with words in it\n",
    "    word_table = pandas.Series(filtered_words)\n",
    "    # calculate relative frequencies\n",
    "    word_freqs = word_table.value_counts(normalize = True)\n",
    "\n",
    "    # pull out only values for flu or influenza\n",
    "    flu_freqs = word_freqs.filter(flu_words)\n",
    "    \n",
    "    # Get the total frequency for flu and influenza\n",
    "    total_flu_freq = flu_freqs.sum()\n",
    "    \n",
    "    # Format the date from the name of the file so we know where to put\n",
    "    # the data in our table\n",
    "    issue_date = str(one_issue[0:4]) + \"-\" + str(one_issue[4:6]) + \"-\" + str(one_issue[6:8])\n",
    "    \n",
    "    # Add the date & relative frequency to our data table\n",
    "    flu_table.loc[flu_table[\"Date\"] == issue_date, \"Frequency\"] = total_flu_freq\n",
    "    \n",
    "# Look at a 1918 date where we know there should be non-zero values\n",
    "flu_table.loc[flu_table[\"Date\"] == \"1918-11-16\", ]"
   ]
  },
  {
   "cell_type": "markdown",
   "metadata": {},
   "source": [
    "### Plot the data!"
   ]
  },
  {
   "cell_type": "code",
   "execution_count": 45,
   "metadata": {},
   "outputs": [
    {
     "data": {
      "application/vnd.plotly.v1+json": {
       "config": {
        "plotlyServerURL": "https://plot.ly"
       },
       "data": [
        {
         "hovertemplate": "Date=%{x}<br>Frequency=%{y}<extra></extra>",
         "legendgroup": "",
         "line": {
          "color": "#636efa",
          "dash": "solid"
         },
         "mode": "lines",
         "name": "",
         "showlegend": false,
         "type": "scatter",
         "x": [
          "1917-01-06T00:00:00",
          "1917-01-13T00:00:00",
          "1917-01-20T00:00:00",
          "1917-01-27T00:00:00",
          "1917-02-03T00:00:00",
          "1917-02-10T00:00:00",
          "1917-02-17T00:00:00",
          "1917-02-24T00:00:00",
          "1917-03-03T00:00:00",
          "1917-03-10T00:00:00",
          "1917-03-17T00:00:00",
          "1917-03-24T00:00:00",
          "1917-03-31T00:00:00",
          "1917-04-07T00:00:00",
          "1917-04-14T00:00:00",
          "1917-04-21T00:00:00",
          "1917-04-28T00:00:00",
          "1917-05-05T00:00:00",
          "1917-05-12T00:00:00",
          "1917-05-19T00:00:00",
          "1917-05-26T00:00:00",
          "1917-06-02T00:00:00",
          "1917-06-09T00:00:00",
          "1917-06-16T00:00:00",
          "1917-06-23T00:00:00",
          "1917-06-30T00:00:00",
          "1917-07-07T00:00:00",
          "1917-07-14T00:00:00",
          "1917-07-28T00:00:00",
          "1917-08-04T00:00:00",
          "1917-08-11T00:00:00",
          "1917-08-18T00:00:00",
          "1917-08-25T00:00:00",
          "1917-09-01T00:00:00",
          "1917-09-08T00:00:00",
          "1917-09-15T00:00:00",
          "1917-09-22T00:00:00",
          "1917-09-29T00:00:00",
          "1917-10-06T00:00:00",
          "1917-10-13T00:00:00",
          "1917-10-20T00:00:00",
          "1917-10-27T00:00:00",
          "1917-11-03T00:00:00",
          "1917-11-10T00:00:00",
          "1917-11-17T00:00:00",
          "1917-11-24T00:00:00",
          "1917-12-01T00:00:00",
          "1917-12-08T00:00:00",
          "1917-12-15T00:00:00",
          "1917-12-22T00:00:00",
          "1917-12-29T00:00:00",
          "1918-01-05T00:00:00",
          "1918-01-12T00:00:00",
          "1918-01-19T00:00:00",
          "1918-01-26T00:00:00",
          "1918-02-02T00:00:00",
          "1918-02-09T00:00:00",
          "1918-02-16T00:00:00",
          "1918-02-23T00:00:00",
          "1918-03-02T00:00:00",
          "1918-03-09T00:00:00",
          "1918-03-16T00:00:00",
          "1918-03-23T00:00:00",
          "1918-03-30T00:00:00",
          "1918-04-06T00:00:00",
          "1918-04-13T00:00:00",
          "1918-04-20T00:00:00",
          "1918-04-27T00:00:00",
          "1918-05-04T00:00:00",
          "1918-05-11T00:00:00",
          "1918-05-18T00:00:00",
          "1918-05-25T00:00:00",
          "1918-06-01T00:00:00",
          "1918-06-08T00:00:00",
          "1918-06-15T00:00:00",
          "1918-06-22T00:00:00",
          "1918-06-29T00:00:00",
          "1918-07-06T00:00:00",
          "1918-07-13T00:00:00",
          "1918-07-20T00:00:00",
          "1918-07-27T00:00:00",
          "1918-08-03T00:00:00",
          "1918-08-10T00:00:00",
          "1918-08-17T00:00:00",
          "1918-08-24T00:00:00",
          "1918-08-31T00:00:00",
          "1918-09-07T00:00:00",
          "1918-09-14T00:00:00",
          "1918-09-21T00:00:00",
          "1918-09-28T00:00:00",
          "1918-10-05T00:00:00",
          "1918-10-12T00:00:00",
          "1918-10-19T00:00:00",
          "1918-10-26T00:00:00",
          "1918-11-02T00:00:00",
          "1918-11-09T00:00:00",
          "1918-11-16T00:00:00",
          "1918-11-23T00:00:00",
          "1918-11-30T00:00:00",
          "1918-12-07T00:00:00",
          "1918-12-14T00:00:00",
          "1918-12-21T00:00:00",
          "1918-12-28T00:00:00",
          "1919-01-04T00:00:00",
          "1919-01-11T00:00:00",
          "1919-01-18T00:00:00",
          "1919-01-25T00:00:00",
          "1919-02-01T00:00:00",
          "1919-02-08T00:00:00",
          "1919-02-15T00:00:00",
          "1919-02-22T00:00:00",
          "1919-03-01T00:00:00",
          "1919-03-08T00:00:00",
          "1919-03-15T00:00:00",
          "1919-03-22T00:00:00",
          "1919-03-29T00:00:00",
          "1919-04-05T00:00:00",
          "1919-04-12T00:00:00",
          "1919-04-19T00:00:00",
          "1919-04-26T00:00:00",
          "1919-05-03T00:00:00",
          "1919-05-10T00:00:00",
          "1919-05-17T00:00:00",
          "1919-05-24T00:00:00",
          "1919-05-31T00:00:00",
          "1919-06-07T00:00:00",
          "1919-06-14T00:00:00",
          "1919-06-21T00:00:00",
          "1919-06-28T00:00:00",
          "1919-07-05T00:00:00",
          "1919-07-12T00:00:00",
          "1919-07-19T00:00:00",
          "1919-07-26T00:00:00",
          "1919-08-02T00:00:00",
          "1919-08-09T00:00:00",
          "1919-08-16T00:00:00",
          "1919-08-23T00:00:00",
          "1919-08-30T00:00:00",
          "1919-09-06T00:00:00",
          "1919-09-13T00:00:00",
          "1919-09-20T00:00:00",
          "1919-09-27T00:00:00",
          "1919-10-04T00:00:00",
          "1919-10-11T00:00:00",
          "1919-10-18T00:00:00",
          "1919-10-25T00:00:00",
          "1919-11-01T00:00:00",
          "1919-11-08T00:00:00",
          "1919-11-15T00:00:00",
          "1919-11-22T00:00:00",
          "1919-11-29T00:00:00",
          "1919-12-06T00:00:00",
          "1919-12-13T00:00:00",
          "1919-12-20T00:00:00",
          "1919-12-27T00:00:00",
          "1920-01-03T00:00:00",
          "1920-01-10T00:00:00",
          "1920-01-17T00:00:00",
          "1920-01-24T00:00:00",
          "1920-01-31T00:00:00",
          "1920-02-07T00:00:00",
          "1920-02-14T00:00:00",
          "1920-02-21T00:00:00",
          "1920-02-28T00:00:00",
          "1920-03-06T00:00:00",
          "1920-03-13T00:00:00",
          "1920-03-20T00:00:00",
          "1920-03-27T00:00:00",
          "1920-04-03T00:00:00",
          "1920-04-10T00:00:00",
          "1920-04-17T00:00:00",
          "1920-04-24T00:00:00",
          "1920-05-01T00:00:00",
          "1920-05-08T00:00:00",
          "1920-05-15T00:00:00",
          "1920-05-22T00:00:00",
          "1920-05-29T00:00:00",
          "1920-06-05T00:00:00",
          "1920-06-12T00:00:00",
          "1920-06-19T00:00:00",
          "1920-06-26T00:00:00",
          "1920-07-03T00:00:00",
          "1920-07-10T00:00:00",
          "1920-07-17T00:00:00",
          "1920-07-24T00:00:00",
          "1920-07-31T00:00:00",
          "1920-08-07T00:00:00",
          "1920-08-14T00:00:00",
          "1920-08-21T00:00:00",
          "1920-08-28T00:00:00",
          "1920-09-04T00:00:00",
          "1920-09-11T00:00:00",
          "1920-09-18T00:00:00",
          "1920-09-25T00:00:00",
          "1920-10-02T00:00:00",
          "1920-10-09T00:00:00",
          "1920-10-16T00:00:00",
          "1920-10-23T00:00:00",
          "1920-10-30T00:00:00",
          "1920-11-06T00:00:00",
          "1920-11-13T00:00:00",
          "1920-11-20T00:00:00",
          "1920-11-27T00:00:00",
          "1920-12-04T00:00:00",
          "1920-12-11T00:00:00",
          "1920-12-18T00:00:00",
          "1920-12-25T00:00:00",
          "1921-01-01T00:00:00",
          "1921-01-08T00:00:00",
          "1921-01-15T00:00:00",
          "1921-01-22T00:00:00",
          "1921-01-29T00:00:00",
          "1921-02-05T00:00:00",
          "1921-02-12T00:00:00",
          "1921-02-19T00:00:00",
          "1921-02-26T00:00:00",
          "1921-03-05T00:00:00",
          "1921-03-12T00:00:00",
          "1921-03-19T00:00:00",
          "1921-03-26T00:00:00",
          "1921-04-16T00:00:00",
          "1921-04-23T00:00:00",
          "1921-04-30T00:00:00",
          "1921-05-07T00:00:00",
          "1921-05-14T00:00:00",
          "1921-05-21T00:00:00",
          "1921-05-28T00:00:00",
          "1921-06-04T00:00:00",
          "1921-06-11T00:00:00",
          "1921-06-18T00:00:00",
          "1921-06-25T00:00:00",
          "1921-07-02T00:00:00",
          "1921-07-09T00:00:00",
          "1921-07-16T00:00:00",
          "1921-07-23T00:00:00",
          "1921-07-30T00:00:00",
          "1921-08-06T00:00:00",
          "1921-08-13T00:00:00",
          "1921-08-20T00:00:00",
          "1921-08-27T00:00:00",
          "1921-09-03T00:00:00",
          "1921-09-10T00:00:00",
          "1921-09-17T00:00:00",
          "1921-09-24T00:00:00",
          "1921-10-08T00:00:00",
          "1921-10-15T00:00:00",
          "1921-10-22T00:00:00",
          "1921-10-29T00:00:00",
          "1921-11-05T00:00:00",
          "1921-11-12T00:00:00",
          "1921-11-19T00:00:00",
          "1921-11-26T00:00:00",
          "1921-12-03T00:00:00",
          "1921-12-10T00:00:00",
          "1921-12-17T00:00:00",
          "1921-12-24T00:00:00",
          "1921-12-31T00:00:00",
          "1922-01-07T00:00:00",
          "1922-01-14T00:00:00",
          "1922-01-21T00:00:00",
          "1922-01-28T00:00:00",
          "1922-02-04T00:00:00",
          "1922-02-11T00:00:00",
          "1922-02-18T00:00:00",
          "1922-02-25T00:00:00",
          "1922-03-04T00:00:00",
          "1922-03-11T00:00:00",
          "1922-03-18T00:00:00",
          "1922-03-25T00:00:00",
          "1922-04-01T00:00:00",
          "1922-04-08T00:00:00",
          "1922-04-15T00:00:00",
          "1922-04-22T00:00:00",
          "1922-04-29T00:00:00",
          "1922-05-06T00:00:00",
          "1922-05-13T00:00:00",
          "1922-05-20T00:00:00",
          "1922-05-27T00:00:00",
          "1922-06-03T00:00:00",
          "1922-06-10T00:00:00",
          "1922-06-17T00:00:00",
          "1922-06-24T00:00:00",
          "1922-07-01T00:00:00",
          "1922-07-08T00:00:00",
          "1922-07-15T00:00:00",
          "1922-07-22T00:00:00",
          "1922-07-29T00:00:00",
          "1922-08-05T00:00:00",
          "1922-08-12T00:00:00",
          "1922-08-19T00:00:00",
          "1922-08-26T00:00:00",
          "1922-09-02T00:00:00",
          "1922-09-09T00:00:00",
          "1922-09-16T00:00:00",
          "1922-09-23T00:00:00",
          "1922-09-30T00:00:00",
          "1922-10-07T00:00:00",
          "1922-10-14T00:00:00",
          "1922-10-21T00:00:00",
          "1922-10-28T00:00:00",
          "1922-11-04T00:00:00",
          "1922-11-11T00:00:00",
          "1922-11-18T00:00:00",
          "1922-11-25T00:00:00",
          "1922-12-02T00:00:00",
          "1922-12-09T00:00:00",
          "1922-12-16T00:00:00",
          "1922-12-23T00:00:00",
          "1922-12-30T00:00:00",
          "1923-01-06T00:00:00",
          "1923-01-13T00:00:00",
          "1923-01-20T00:00:00",
          "1923-01-27T00:00:00",
          "1923-02-03T00:00:00",
          "1923-02-10T00:00:00",
          "1923-02-17T00:00:00",
          "1923-02-24T00:00:00",
          "1923-03-03T00:00:00",
          "1923-03-10T00:00:00",
          "1923-03-17T00:00:00",
          "1923-03-24T00:00:00",
          "1923-03-31T00:00:00",
          "1923-04-07T00:00:00",
          "1923-04-14T00:00:00",
          "1923-04-21T00:00:00",
          "1923-04-28T00:00:00",
          "1923-05-05T00:00:00",
          "1923-05-12T00:00:00",
          "1923-05-19T00:00:00",
          "1923-05-26T00:00:00",
          "1923-06-02T00:00:00",
          "1923-06-09T00:00:00",
          "1923-06-16T00:00:00",
          "1923-06-23T00:00:00",
          "1923-06-30T00:00:00",
          "1923-07-07T00:00:00",
          "1923-07-14T00:00:00",
          "1923-07-21T00:00:00",
          "1923-07-28T00:00:00",
          "1923-08-04T00:00:00",
          "1923-08-11T00:00:00",
          "1923-08-18T00:00:00",
          "1923-08-25T00:00:00",
          "1923-09-01T00:00:00",
          "1923-09-08T00:00:00",
          "1923-09-15T00:00:00",
          "1923-09-22T00:00:00",
          "1923-09-29T00:00:00",
          "1923-10-06T00:00:00",
          "1923-10-13T00:00:00",
          "1923-10-20T00:00:00",
          "1923-10-27T00:00:00",
          "1923-11-03T00:00:00",
          "1923-11-10T00:00:00",
          "1923-11-17T00:00:00",
          "1923-11-24T00:00:00",
          "1923-12-01T00:00:00",
          "1923-12-08T00:00:00",
          "1923-12-15T00:00:00",
          "1923-12-22T00:00:00",
          "1923-12-29T00:00:00",
          "1924-01-05T00:00:00",
          "1924-01-12T00:00:00",
          "1924-01-19T00:00:00",
          "1924-01-26T00:00:00",
          "1924-02-02T00:00:00",
          "1924-02-09T00:00:00",
          "1924-02-16T00:00:00",
          "1924-02-23T00:00:00",
          "1924-03-01T00:00:00",
          "1924-03-08T00:00:00",
          "1924-03-15T00:00:00",
          "1924-03-22T00:00:00",
          "1924-03-29T00:00:00",
          "1924-04-05T00:00:00",
          "1924-04-12T00:00:00",
          "1924-04-19T00:00:00",
          "1924-04-26T00:00:00",
          "1924-05-03T00:00:00",
          "1924-05-10T00:00:00",
          "1924-05-17T00:00:00",
          "1924-05-24T00:00:00",
          "1924-05-31T00:00:00",
          "1924-06-07T00:00:00",
          "1924-06-14T00:00:00",
          "1924-06-21T00:00:00",
          "1924-06-28T00:00:00",
          "1924-07-05T00:00:00",
          "1924-07-12T00:00:00",
          "1924-07-19T00:00:00",
          "1924-07-26T00:00:00",
          "1924-08-02T00:00:00",
          "1924-08-09T00:00:00",
          "1924-08-16T00:00:00",
          "1924-08-23T00:00:00",
          "1924-08-30T00:00:00",
          "1924-09-06T00:00:00",
          "1924-09-13T00:00:00",
          "1924-09-20T00:00:00",
          "1924-09-27T00:00:00",
          "1924-10-04T00:00:00",
          "1924-10-11T00:00:00",
          "1924-10-18T00:00:00",
          "1924-10-25T00:00:00",
          "1924-11-01T00:00:00",
          "1924-11-08T00:00:00",
          "1924-11-15T00:00:00",
          "1924-11-22T00:00:00",
          "1924-11-29T00:00:00",
          "1924-12-06T00:00:00",
          "1924-12-13T00:00:00",
          "1924-12-20T00:00:00",
          "1924-12-27T00:00:00",
          "1925-01-03T00:00:00",
          "1925-01-10T00:00:00",
          "1925-01-17T00:00:00",
          "1925-01-24T00:00:00",
          "1925-01-31T00:00:00",
          "1925-02-07T00:00:00",
          "1925-02-14T00:00:00",
          "1925-02-21T00:00:00",
          "1925-02-28T00:00:00",
          "1925-03-07T00:00:00",
          "1925-03-14T00:00:00",
          "1925-03-21T00:00:00",
          "1925-03-28T00:00:00",
          "1925-04-04T00:00:00",
          "1925-04-11T00:00:00",
          "1925-04-18T00:00:00",
          "1925-04-25T00:00:00",
          "1925-05-02T00:00:00",
          "1925-05-09T00:00:00",
          "1925-05-16T00:00:00",
          "1925-05-23T00:00:00",
          "1925-05-30T00:00:00",
          "1925-06-06T00:00:00",
          "1925-06-13T00:00:00",
          "1925-06-20T00:00:00",
          "1925-06-27T00:00:00",
          "1925-07-04T00:00:00",
          "1925-07-11T00:00:00",
          "1925-07-18T00:00:00",
          "1925-07-25T00:00:00",
          "1925-08-01T00:00:00",
          "1925-08-08T00:00:00",
          "1925-08-15T00:00:00",
          "1925-08-22T00:00:00",
          "1925-09-05T00:00:00",
          "1925-09-12T00:00:00",
          "1925-09-19T00:00:00",
          "1925-09-26T00:00:00",
          "1925-10-03T00:00:00",
          "1925-10-10T00:00:00",
          "1925-10-17T00:00:00",
          "1925-10-24T00:00:00",
          "1925-10-31T00:00:00",
          "1925-11-07T00:00:00",
          "1925-11-14T00:00:00",
          "1925-11-21T00:00:00",
          "1925-11-28T00:00:00",
          "1925-12-05T00:00:00",
          "1925-12-12T00:00:00",
          "1925-12-19T00:00:00",
          "1925-12-26T00:00:00",
          "1926-01-02T00:00:00",
          "1926-01-09T00:00:00",
          "1926-01-16T00:00:00",
          "1926-01-23T00:00:00",
          "1926-01-30T00:00:00",
          "1926-02-06T00:00:00",
          "1926-02-13T00:00:00",
          "1926-02-20T00:00:00",
          "1926-02-27T00:00:00",
          "1926-03-06T00:00:00",
          "1926-03-13T00:00:00",
          "1926-03-20T00:00:00",
          "1926-03-27T00:00:00",
          "1926-04-03T00:00:00",
          "1926-04-10T00:00:00",
          "1926-04-17T00:00:00",
          "1926-04-24T00:00:00",
          "1926-05-01T00:00:00",
          "1926-05-08T00:00:00",
          "1926-05-15T00:00:00",
          "1926-05-22T00:00:00",
          "1926-05-29T00:00:00",
          "1926-06-05T00:00:00",
          "1926-06-12T00:00:00",
          "1926-06-19T00:00:00",
          "1926-06-26T00:00:00",
          "1926-07-03T00:00:00",
          "1926-07-10T00:00:00",
          "1926-07-17T00:00:00",
          "1926-07-24T00:00:00",
          "1926-07-31T00:00:00",
          "1926-08-07T00:00:00",
          "1926-08-14T00:00:00",
          "1926-08-21T00:00:00",
          "1926-08-28T00:00:00",
          "1926-09-04T00:00:00",
          "1926-09-11T00:00:00",
          "1926-09-18T00:00:00",
          "1926-09-25T00:00:00",
          "1926-10-02T00:00:00",
          "1926-10-09T00:00:00",
          "1926-10-16T00:00:00",
          "1926-10-23T00:00:00",
          "1926-10-30T00:00:00",
          "1926-11-06T00:00:00",
          "1926-11-13T00:00:00",
          "1926-11-20T00:00:00",
          "1926-11-27T00:00:00",
          "1926-12-04T00:00:00",
          "1926-12-11T00:00:00",
          "1926-12-18T00:00:00",
          "1927-01-01T00:00:00",
          "1927-01-08T00:00:00",
          "1927-01-15T00:00:00",
          "1927-01-22T00:00:00",
          "1927-01-29T00:00:00",
          "1927-02-05T00:00:00",
          "1927-02-12T00:00:00",
          "1927-02-19T00:00:00",
          "1927-02-26T00:00:00",
          "1927-03-05T00:00:00",
          "1927-03-12T00:00:00",
          "1927-03-19T00:00:00",
          "1927-03-26T00:00:00",
          "1927-04-02T00:00:00",
          "1927-04-09T00:00:00",
          "1927-04-16T00:00:00",
          "1927-04-23T00:00:00",
          "1927-04-30T00:00:00",
          "1927-05-07T00:00:00",
          "1927-05-14T00:00:00",
          "1927-05-21T00:00:00",
          "1927-05-28T00:00:00",
          "1927-06-04T00:00:00",
          "1927-06-11T00:00:00",
          "1927-06-18T00:00:00",
          "1927-06-25T00:00:00",
          "1927-07-02T00:00:00",
          "1927-07-09T00:00:00",
          "1927-07-16T00:00:00",
          "1927-07-23T00:00:00",
          "1927-07-30T00:00:00",
          "1927-08-06T00:00:00",
          "1927-08-13T00:00:00",
          "1927-08-20T00:00:00",
          "1927-08-27T00:00:00",
          "1927-09-03T00:00:00",
          "1927-09-10T00:00:00",
          "1927-09-17T00:00:00",
          "1927-09-24T00:00:00",
          "1927-10-01T00:00:00",
          "1927-10-08T00:00:00",
          "1927-10-15T00:00:00",
          "1927-10-22T00:00:00",
          "1927-10-29T00:00:00",
          "1927-11-05T00:00:00",
          "1927-11-12T00:00:00",
          "1927-11-19T00:00:00",
          "1927-11-26T00:00:00",
          "1927-12-03T00:00:00",
          "1927-12-10T00:00:00",
          "1927-12-17T00:00:00",
          "1927-12-24T00:00:00",
          "1927-12-31T00:00:00",
          "1928-01-07T00:00:00",
          "1928-01-14T00:00:00",
          "1928-01-21T00:00:00",
          "1928-01-28T00:00:00",
          "1928-02-04T00:00:00",
          "1928-02-11T00:00:00",
          "1928-02-18T00:00:00",
          "1928-02-25T00:00:00",
          "1928-03-03T00:00:00",
          "1928-03-10T00:00:00",
          "1928-03-17T00:00:00",
          "1928-03-24T00:00:00",
          "1928-03-31T00:00:00",
          "1928-04-07T00:00:00",
          "1928-04-14T00:00:00",
          "1928-04-21T00:00:00",
          "1928-04-28T00:00:00",
          "1928-05-05T00:00:00",
          "1928-05-12T00:00:00",
          "1928-05-19T00:00:00",
          "1928-05-26T00:00:00",
          "1928-06-02T00:00:00",
          "1928-06-09T00:00:00",
          "1928-06-16T00:00:00",
          "1928-06-23T00:00:00",
          "1928-06-30T00:00:00",
          "1928-07-07T00:00:00",
          "1928-07-14T00:00:00",
          "1928-07-21T00:00:00",
          "1928-07-28T00:00:00",
          "1928-08-04T00:00:00",
          "1928-08-11T00:00:00",
          "1928-08-18T00:00:00",
          "1928-08-25T00:00:00",
          "1928-09-01T00:00:00",
          "1928-09-08T00:00:00",
          "1928-09-15T00:00:00",
          "1928-09-22T00:00:00",
          "1928-09-29T00:00:00",
          "1928-10-06T00:00:00",
          "1928-10-13T00:00:00",
          "1928-10-20T00:00:00",
          "1928-10-27T00:00:00",
          "1928-11-03T00:00:00",
          "1928-11-10T00:00:00",
          "1928-11-17T00:00:00",
          "1928-11-24T00:00:00",
          "1928-12-01T00:00:00",
          "1928-12-08T00:00:00",
          "1928-12-15T00:00:00",
          "1928-12-22T00:00:00",
          "1929-01-05T00:00:00",
          "1929-01-12T00:00:00",
          "1929-01-19T00:00:00",
          "1929-01-26T00:00:00",
          "1929-02-02T00:00:00",
          "1929-02-09T00:00:00",
          "1929-02-16T00:00:00",
          "1929-02-23T00:00:00",
          "1929-03-02T00:00:00",
          "1929-03-09T00:00:00",
          "1929-03-16T00:00:00",
          "1929-03-23T00:00:00",
          "1929-03-30T00:00:00",
          "1929-04-06T00:00:00",
          "1929-04-13T00:00:00",
          "1929-04-20T00:00:00",
          "1929-04-27T00:00:00",
          "1929-05-04T00:00:00",
          "1929-05-11T00:00:00",
          "1929-05-18T00:00:00",
          "1929-05-25T00:00:00",
          "1929-06-01T00:00:00",
          "1929-06-08T00:00:00",
          "1929-06-15T00:00:00",
          "1929-06-22T00:00:00",
          "1929-06-29T00:00:00",
          "1929-07-06T00:00:00",
          "1929-07-13T00:00:00",
          "1929-07-20T00:00:00",
          "1929-07-27T00:00:00",
          "1929-08-03T00:00:00",
          "1929-08-10T00:00:00",
          "1929-08-17T00:00:00",
          "1929-08-24T00:00:00",
          "1929-08-31T00:00:00",
          "1929-09-07T00:00:00",
          "1929-09-14T00:00:00",
          "1929-09-21T00:00:00",
          "1929-09-28T00:00:00",
          "1929-10-05T00:00:00",
          "1929-10-12T00:00:00",
          "1929-10-19T00:00:00",
          "1929-10-26T00:00:00",
          "1929-11-02T00:00:00",
          "1929-11-09T00:00:00",
          "1929-11-16T00:00:00",
          "1929-11-23T00:00:00",
          "1929-11-30T00:00:00",
          "1929-12-07T00:00:00",
          "1929-12-14T00:00:00",
          "1929-12-21T00:00:00",
          "1929-12-28T00:00:00",
          "1930-01-04T00:00:00",
          "1930-01-11T00:00:00",
          "1930-01-18T00:00:00",
          "1930-01-25T00:00:00",
          "1930-02-01T00:00:00",
          "1930-02-08T00:00:00",
          "1930-02-15T00:00:00",
          "1930-02-22T00:00:00",
          "1930-03-01T00:00:00",
          "1930-03-08T00:00:00",
          "1930-03-15T00:00:00",
          "1930-03-29T00:00:00",
          "1930-04-05T00:00:00",
          "1930-04-12T00:00:00",
          "1930-04-19T00:00:00",
          "1930-04-26T00:00:00",
          "1930-05-03T00:00:00",
          "1930-05-10T00:00:00",
          "1930-05-17T00:00:00",
          "1930-05-24T00:00:00",
          "1930-05-31T00:00:00",
          "1930-06-07T00:00:00",
          "1930-06-14T00:00:00",
          "1930-06-21T00:00:00",
          "1930-06-28T00:00:00",
          "1930-07-05T00:00:00",
          "1930-07-12T00:00:00",
          "1930-07-19T00:00:00",
          "1930-07-26T00:00:00",
          "1930-08-02T00:00:00",
          "1930-08-09T00:00:00",
          "1930-08-16T00:00:00",
          "1930-08-23T00:00:00",
          "1930-08-30T00:00:00",
          "1930-09-06T00:00:00",
          "1930-09-13T00:00:00",
          "1930-09-20T00:00:00",
          "1930-09-27T00:00:00",
          "1930-10-04T00:00:00",
          "1930-10-11T00:00:00",
          "1930-10-18T00:00:00",
          "1930-10-25T00:00:00",
          "1930-11-01T00:00:00",
          "1930-11-08T00:00:00",
          "1930-11-15T00:00:00",
          "1930-11-22T00:00:00",
          "1930-11-29T00:00:00",
          "1930-12-06T00:00:00",
          "1930-12-13T00:00:00",
          "1930-12-20T00:00:00",
          "1930-12-27T00:00:00",
          "1931-01-03T00:00:00",
          "1931-01-10T00:00:00",
          "1931-01-17T00:00:00",
          "1931-01-24T00:00:00",
          "1931-01-31T00:00:00",
          "1931-02-07T00:00:00",
          "1931-02-14T00:00:00",
          "1931-02-21T00:00:00",
          "1931-02-28T00:00:00",
          "1931-03-07T00:00:00",
          "1931-03-14T00:00:00",
          "1931-03-21T00:00:00",
          "1931-03-28T00:00:00",
          "1931-04-04T00:00:00",
          "1931-04-11T00:00:00",
          "1931-04-18T00:00:00",
          "1931-04-25T00:00:00",
          "1931-05-02T00:00:00",
          "1931-05-09T00:00:00",
          "1931-05-16T00:00:00",
          "1931-05-23T00:00:00",
          "1931-05-30T00:00:00",
          "1931-06-06T00:00:00",
          "1931-06-13T00:00:00",
          "1931-06-20T00:00:00",
          "1931-06-27T00:00:00",
          "1931-07-04T00:00:00",
          "1931-07-11T00:00:00",
          "1931-07-18T00:00:00",
          "1931-07-25T00:00:00",
          "1931-08-01T00:00:00",
          "1931-08-08T00:00:00",
          "1931-08-15T00:00:00",
          "1931-08-22T00:00:00",
          "1931-08-29T00:00:00",
          "1931-09-05T00:00:00",
          "1931-09-12T00:00:00",
          "1931-09-19T00:00:00",
          "1931-09-26T00:00:00",
          "1931-10-03T00:00:00",
          "1931-10-10T00:00:00",
          "1931-10-17T00:00:00",
          "1931-10-24T00:00:00",
          "1931-10-31T00:00:00",
          "1931-11-07T00:00:00",
          "1931-11-14T00:00:00",
          "1931-11-21T00:00:00",
          "1931-11-28T00:00:00",
          "1931-12-05T00:00:00",
          "1931-12-12T00:00:00",
          "1931-12-19T00:00:00",
          "1931-12-26T00:00:00",
          "1932-01-02T00:00:00",
          "1932-01-09T00:00:00",
          "1932-01-16T00:00:00",
          "1932-01-23T00:00:00",
          "1932-01-30T00:00:00",
          "1932-02-06T00:00:00",
          "1932-02-13T00:00:00",
          "1932-02-20T00:00:00",
          "1932-02-27T00:00:00",
          "1932-03-05T00:00:00",
          "1932-03-12T00:00:00",
          "1932-03-19T00:00:00",
          "1932-03-26T00:00:00",
          "1932-04-02T00:00:00",
          "1932-04-09T00:00:00",
          "1932-04-16T00:00:00",
          "1932-04-23T00:00:00",
          "1932-04-30T00:00:00",
          "1932-05-07T00:00:00",
          "1932-05-14T00:00:00",
          "1932-05-21T00:00:00",
          "1932-05-28T00:00:00",
          "1932-06-04T00:00:00",
          "1932-06-11T00:00:00",
          "1932-06-18T00:00:00",
          "1932-06-25T00:00:00",
          "1932-07-02T00:00:00",
          "1932-07-09T00:00:00",
          "1932-07-16T00:00:00",
          "1932-07-23T00:00:00",
          "1932-07-30T00:00:00",
          "1932-08-06T00:00:00",
          "1932-08-13T00:00:00",
          "1932-08-20T00:00:00",
          "1932-08-27T00:00:00",
          "1932-09-03T00:00:00",
          "1932-09-10T00:00:00",
          "1932-09-17T00:00:00",
          "1932-09-24T00:00:00",
          "1932-10-01T00:00:00",
          "1932-10-08T00:00:00",
          "1932-10-15T00:00:00",
          "1932-10-22T00:00:00",
          "1932-10-29T00:00:00",
          "1932-11-05T00:00:00",
          "1932-11-12T00:00:00",
          "1932-11-19T00:00:00",
          "1932-11-26T00:00:00",
          "1932-12-03T00:00:00",
          "1932-12-10T00:00:00",
          "1932-12-17T00:00:00",
          "1932-12-24T00:00:00",
          "1932-12-31T00:00:00"
         ],
         "xaxis": "x",
         "y": [
          0,
          0,
          0,
          0,
          0,
          0,
          0,
          0,
          0,
          0,
          0,
          0,
          0,
          0,
          0,
          0,
          0,
          0,
          0,
          0,
          0,
          0,
          0,
          0,
          0,
          0,
          0,
          0,
          0,
          0,
          0,
          0,
          0,
          0,
          0,
          0,
          0,
          0,
          0,
          0,
          0,
          0,
          0,
          0,
          0,
          0,
          0,
          0,
          0,
          0,
          0,
          0,
          0,
          0,
          0,
          0,
          0,
          0,
          0,
          0,
          0,
          0,
          0,
          0,
          0,
          0,
          0,
          0,
          0,
          0,
          0,
          0,
          0,
          0,
          0,
          0,
          0,
          0,
          0,
          0,
          0,
          0,
          0,
          0,
          0,
          0,
          0,
          0,
          0,
          0,
          0,
          0.0004798464491362764,
          0.0007000350017500875,
          0.0003946329913180742,
          0.00032035880185808104,
          0.0034059945504087193,
          0.0008375209380234506,
          0.0006568144499178982,
          0.00016371971185330714,
          0.00048007681228996637,
          0.0028526148969889066,
          0.002620802620802621,
          0.0013119055428009183,
          0.0011196417146513114,
          0,
          0,
          0.00033145508783559825,
          0.00017067759003242875,
          0,
          0.000180635838150289,
          0.00017274140611504577,
          0,
          0,
          0,
          0.0001691761123329386,
          0.00016803898504453034,
          0,
          0,
          0.00017027073046143367,
          0.00017238407171177384,
          0,
          0,
          0,
          0,
          0,
          0,
          0,
          0,
          0,
          0,
          0,
          0,
          0,
          0,
          0,
          0,
          0,
          0,
          0,
          0,
          0,
          0,
          0.0010922140739584958,
          0.0001529753709652746,
          0,
          0,
          0,
          0,
          0,
          0,
          0,
          0.00016818028927009755,
          0,
          0,
          0,
          0,
          0,
          0,
          0,
          0,
          0.00016725204883759825,
          0.0001668613382279326,
          0,
          0.0003443526170798898,
          0.0003328340822100183,
          0.0010719754977029097,
          0.00015639662183296842,
          0.00016149870801033592,
          0.00014634860237084735,
          0.0001398992725237829,
          0,
          0,
          0,
          0,
          0,
          0,
          0,
          0,
          0,
          0,
          0,
          0,
          0,
          0,
          0,
          0.00015549681231534753,
          0,
          0,
          0,
          0,
          0,
          0,
          0,
          0,
          0,
          0,
          0,
          0,
          0,
          0,
          0,
          0,
          0,
          0,
          0,
          0,
          0,
          0,
          0,
          0,
          0,
          0,
          0,
          0,
          0,
          0,
          0,
          0.00012512512512512512,
          0,
          0,
          0,
          0,
          0,
          0,
          0,
          0,
          0,
          0,
          0,
          0,
          0,
          0,
          0,
          0,
          0,
          0,
          0,
          0,
          0,
          0,
          0,
          0,
          0,
          0,
          0,
          0,
          0,
          0,
          0,
          0,
          0,
          0,
          0,
          0,
          0,
          0,
          0,
          0,
          0,
          0,
          0,
          0,
          0,
          0,
          0.00015223017202009437,
          0.000146177459435755,
          0.0009208103130755065,
          0.00012236906510034264,
          0,
          0.00013440860215053763,
          0,
          0,
          0,
          0,
          0.00011994722322178242,
          0,
          0,
          0,
          0,
          0.00013147515119642388,
          0,
          0,
          0,
          0,
          0,
          0,
          0,
          0,
          0,
          0,
          0,
          0,
          0,
          0,
          0,
          0,
          0,
          0,
          0,
          0,
          0,
          0,
          0,
          0,
          0,
          0,
          0,
          0,
          0,
          0,
          0,
          0,
          0,
          0,
          0,
          0,
          0,
          0.00014216661927779356,
          0,
          0,
          0.00014660606949127694,
          0.00014587892049598833,
          0,
          0,
          0,
          0,
          0,
          0,
          0,
          0,
          0,
          0,
          0,
          0,
          0,
          0,
          0,
          0,
          0,
          0,
          0,
          0,
          0,
          0,
          0,
          0,
          0,
          0,
          0,
          0,
          0,
          0,
          0,
          0,
          0,
          0,
          0,
          0,
          0,
          0.00013871549452073797,
          0,
          0,
          0,
          0,
          0,
          0,
          0,
          0,
          0,
          0,
          0,
          0,
          0,
          0,
          0,
          0,
          0,
          0,
          0,
          0,
          0,
          0,
          0,
          0,
          0,
          0,
          0,
          0,
          0.00013480722566729578,
          0,
          0,
          0,
          0,
          0,
          0,
          0,
          0,
          0,
          0,
          0,
          0,
          0,
          0,
          0,
          0,
          0,
          0,
          0,
          0,
          0,
          0,
          0,
          0,
          0,
          0,
          0,
          0,
          0,
          0,
          0,
          0.0002948547840188707,
          0,
          0.0006088280060882801,
          0.0003079765937788728,
          0,
          0,
          0.0001444669170759896,
          0,
          0,
          0,
          0,
          0,
          0,
          0,
          0.00013991884706870015,
          0,
          0,
          0,
          0,
          0,
          0.00013161358252171624,
          0,
          0,
          0,
          0,
          0,
          0,
          0,
          0,
          0.00014749262536873156,
          0,
          0,
          0,
          0,
          0,
          0,
          0,
          0,
          0,
          0,
          0,
          0,
          0.0001465845793022574,
          0.00014660606949127694,
          0,
          0.00014357501794687725,
          0,
          0,
          0,
          0,
          0.00043789227849948915,
          0,
          0.0005745475438092502,
          0.00029192818566632606,
          0,
          0,
          0,
          0.00014423770373575654,
          0,
          0.00013956734124214934,
          0,
          0,
          0,
          0,
          0,
          0,
          0,
          0,
          0,
          0,
          0,
          0,
          0,
          0,
          0,
          0,
          0,
          0,
          0,
          0,
          0,
          0,
          0,
          0,
          0,
          0,
          0,
          0,
          0,
          0,
          0,
          0,
          0,
          0,
          0,
          0.00015586034912718204,
          0,
          0,
          0,
          0,
          0,
          0,
          0,
          0,
          0,
          0,
          0,
          0,
          0,
          0,
          0,
          0,
          0,
          0,
          0,
          0,
          0,
          0,
          0,
          0,
          0,
          0,
          0,
          0,
          0,
          0,
          0,
          0,
          0,
          0,
          0,
          0,
          0,
          0,
          0,
          0,
          0,
          0,
          0,
          0,
          0,
          0,
          0,
          0,
          0,
          0,
          0.000154273372415921,
          0,
          0.0001443418013856813,
          0,
          0,
          0.0001597444089456869,
          0,
          0,
          0,
          0,
          0,
          0,
          0,
          0.0001489203276247208,
          0,
          0.00016056518946692356,
          0,
          0,
          0,
          0,
          0,
          0,
          0,
          0,
          0,
          0,
          0,
          0,
          0,
          0,
          0,
          0,
          0,
          0,
          0.0001670843776106934,
          0,
          0,
          0,
          0,
          0,
          0,
          0,
          0,
          0,
          0,
          0,
          0,
          0.0001585791309863622,
          0,
          0,
          0.00015600624024960998,
          0.0003083089255433945,
          0.0006362334976936536,
          0.0006422607578676942,
          0.0001588057805304113,
          0,
          0,
          0.00031887755102040814,
          0.00014712373105781962,
          0,
          0,
          0,
          0,
          0.0002981959147159684,
          0,
          0,
          0,
          0,
          0,
          0,
          0,
          0,
          0,
          0,
          0,
          0,
          0,
          0,
          0,
          0,
          0,
          0,
          0,
          0,
          0,
          0,
          0,
          0,
          0,
          0,
          0,
          0.00015569048731122528,
          0,
          0,
          0,
          0,
          0,
          0,
          0,
          0,
          0,
          0,
          0,
          0.00017497812773403323,
          0,
          0,
          0,
          0,
          0,
          0,
          0,
          0,
          0,
          0,
          0,
          0,
          0,
          0,
          0,
          0,
          0,
          0,
          0,
          0,
          0,
          0,
          0,
          0,
          0,
          0,
          0,
          0,
          0,
          0,
          0,
          0,
          0,
          0,
          0,
          0,
          0,
          0,
          0,
          0,
          0,
          0,
          0,
          0,
          0,
          0,
          0,
          0.00031377470975839345,
          0.00016542597187758478,
          0,
          0,
          0,
          0,
          0,
          0,
          0,
          0.0001550147263990079,
          0.0001595150741745095,
          0,
          0.0001543924656476764,
          0.00015762925598991173,
          0,
          0,
          0.00015349194167306216,
          0.000163826998689384,
          0,
          0,
          0,
          0,
          0,
          0,
          0,
          0,
          0,
          0,
          0,
          0,
          0,
          0,
          0,
          0,
          0.00016753224995811694,
          0,
          0,
          0,
          0.00016046213093709883,
          0.00016531658125309968,
          0,
          0,
          0,
          0,
          0,
          0,
          0,
          0.00016,
          0,
          0,
          0,
          0,
          0,
          0,
          0,
          0,
          0,
          0,
          0.0001465845793022574,
          0,
          0.00014547570555717196,
          0.00014869888475836432,
          0.0003017046311660884,
          0.0002925687536571094,
          0,
          0.00014757969303423848,
          0,
          0.0004411116012351125,
          0.0001439055979277594,
          0,
          0,
          0,
          0,
          0,
          0,
          0,
          0,
          0.00014409221902017292,
          0,
          0,
          0,
          0.00014553922282055013,
          0,
          0,
          0,
          0,
          0,
          0.00014958863126402394,
          0,
          0,
          0,
          0,
          0,
          0.00015673981191222572,
          0.00015035333032626674,
          0,
          0,
          0,
          0,
          0.0001487652484379649,
          0,
          0,
          0,
          0,
          0.0001429592566118656,
          0.00029239766081871346,
          0.0005946187007581388,
          0.00045024763619990995,
          0.0005988023952095808,
          0
         ],
         "yaxis": "y"
        }
       ],
       "layout": {
        "legend": {
         "tracegroupgap": 0
        },
        "margin": {
         "t": 60
        },
        "template": {
         "data": {
          "bar": [
           {
            "error_x": {
             "color": "#2a3f5f"
            },
            "error_y": {
             "color": "#2a3f5f"
            },
            "marker": {
             "line": {
              "color": "#E5ECF6",
              "width": 0.5
             }
            },
            "type": "bar"
           }
          ],
          "barpolar": [
           {
            "marker": {
             "line": {
              "color": "#E5ECF6",
              "width": 0.5
             }
            },
            "type": "barpolar"
           }
          ],
          "carpet": [
           {
            "aaxis": {
             "endlinecolor": "#2a3f5f",
             "gridcolor": "white",
             "linecolor": "white",
             "minorgridcolor": "white",
             "startlinecolor": "#2a3f5f"
            },
            "baxis": {
             "endlinecolor": "#2a3f5f",
             "gridcolor": "white",
             "linecolor": "white",
             "minorgridcolor": "white",
             "startlinecolor": "#2a3f5f"
            },
            "type": "carpet"
           }
          ],
          "choropleth": [
           {
            "colorbar": {
             "outlinewidth": 0,
             "ticks": ""
            },
            "type": "choropleth"
           }
          ],
          "contour": [
           {
            "colorbar": {
             "outlinewidth": 0,
             "ticks": ""
            },
            "colorscale": [
             [
              0,
              "#0d0887"
             ],
             [
              0.1111111111111111,
              "#46039f"
             ],
             [
              0.2222222222222222,
              "#7201a8"
             ],
             [
              0.3333333333333333,
              "#9c179e"
             ],
             [
              0.4444444444444444,
              "#bd3786"
             ],
             [
              0.5555555555555556,
              "#d8576b"
             ],
             [
              0.6666666666666666,
              "#ed7953"
             ],
             [
              0.7777777777777778,
              "#fb9f3a"
             ],
             [
              0.8888888888888888,
              "#fdca26"
             ],
             [
              1,
              "#f0f921"
             ]
            ],
            "type": "contour"
           }
          ],
          "contourcarpet": [
           {
            "colorbar": {
             "outlinewidth": 0,
             "ticks": ""
            },
            "type": "contourcarpet"
           }
          ],
          "heatmap": [
           {
            "colorbar": {
             "outlinewidth": 0,
             "ticks": ""
            },
            "colorscale": [
             [
              0,
              "#0d0887"
             ],
             [
              0.1111111111111111,
              "#46039f"
             ],
             [
              0.2222222222222222,
              "#7201a8"
             ],
             [
              0.3333333333333333,
              "#9c179e"
             ],
             [
              0.4444444444444444,
              "#bd3786"
             ],
             [
              0.5555555555555556,
              "#d8576b"
             ],
             [
              0.6666666666666666,
              "#ed7953"
             ],
             [
              0.7777777777777778,
              "#fb9f3a"
             ],
             [
              0.8888888888888888,
              "#fdca26"
             ],
             [
              1,
              "#f0f921"
             ]
            ],
            "type": "heatmap"
           }
          ],
          "heatmapgl": [
           {
            "colorbar": {
             "outlinewidth": 0,
             "ticks": ""
            },
            "colorscale": [
             [
              0,
              "#0d0887"
             ],
             [
              0.1111111111111111,
              "#46039f"
             ],
             [
              0.2222222222222222,
              "#7201a8"
             ],
             [
              0.3333333333333333,
              "#9c179e"
             ],
             [
              0.4444444444444444,
              "#bd3786"
             ],
             [
              0.5555555555555556,
              "#d8576b"
             ],
             [
              0.6666666666666666,
              "#ed7953"
             ],
             [
              0.7777777777777778,
              "#fb9f3a"
             ],
             [
              0.8888888888888888,
              "#fdca26"
             ],
             [
              1,
              "#f0f921"
             ]
            ],
            "type": "heatmapgl"
           }
          ],
          "histogram": [
           {
            "marker": {
             "colorbar": {
              "outlinewidth": 0,
              "ticks": ""
             }
            },
            "type": "histogram"
           }
          ],
          "histogram2d": [
           {
            "colorbar": {
             "outlinewidth": 0,
             "ticks": ""
            },
            "colorscale": [
             [
              0,
              "#0d0887"
             ],
             [
              0.1111111111111111,
              "#46039f"
             ],
             [
              0.2222222222222222,
              "#7201a8"
             ],
             [
              0.3333333333333333,
              "#9c179e"
             ],
             [
              0.4444444444444444,
              "#bd3786"
             ],
             [
              0.5555555555555556,
              "#d8576b"
             ],
             [
              0.6666666666666666,
              "#ed7953"
             ],
             [
              0.7777777777777778,
              "#fb9f3a"
             ],
             [
              0.8888888888888888,
              "#fdca26"
             ],
             [
              1,
              "#f0f921"
             ]
            ],
            "type": "histogram2d"
           }
          ],
          "histogram2dcontour": [
           {
            "colorbar": {
             "outlinewidth": 0,
             "ticks": ""
            },
            "colorscale": [
             [
              0,
              "#0d0887"
             ],
             [
              0.1111111111111111,
              "#46039f"
             ],
             [
              0.2222222222222222,
              "#7201a8"
             ],
             [
              0.3333333333333333,
              "#9c179e"
             ],
             [
              0.4444444444444444,
              "#bd3786"
             ],
             [
              0.5555555555555556,
              "#d8576b"
             ],
             [
              0.6666666666666666,
              "#ed7953"
             ],
             [
              0.7777777777777778,
              "#fb9f3a"
             ],
             [
              0.8888888888888888,
              "#fdca26"
             ],
             [
              1,
              "#f0f921"
             ]
            ],
            "type": "histogram2dcontour"
           }
          ],
          "mesh3d": [
           {
            "colorbar": {
             "outlinewidth": 0,
             "ticks": ""
            },
            "type": "mesh3d"
           }
          ],
          "parcoords": [
           {
            "line": {
             "colorbar": {
              "outlinewidth": 0,
              "ticks": ""
             }
            },
            "type": "parcoords"
           }
          ],
          "pie": [
           {
            "automargin": true,
            "type": "pie"
           }
          ],
          "scatter": [
           {
            "marker": {
             "colorbar": {
              "outlinewidth": 0,
              "ticks": ""
             }
            },
            "type": "scatter"
           }
          ],
          "scatter3d": [
           {
            "line": {
             "colorbar": {
              "outlinewidth": 0,
              "ticks": ""
             }
            },
            "marker": {
             "colorbar": {
              "outlinewidth": 0,
              "ticks": ""
             }
            },
            "type": "scatter3d"
           }
          ],
          "scattercarpet": [
           {
            "marker": {
             "colorbar": {
              "outlinewidth": 0,
              "ticks": ""
             }
            },
            "type": "scattercarpet"
           }
          ],
          "scattergeo": [
           {
            "marker": {
             "colorbar": {
              "outlinewidth": 0,
              "ticks": ""
             }
            },
            "type": "scattergeo"
           }
          ],
          "scattergl": [
           {
            "marker": {
             "colorbar": {
              "outlinewidth": 0,
              "ticks": ""
             }
            },
            "type": "scattergl"
           }
          ],
          "scattermapbox": [
           {
            "marker": {
             "colorbar": {
              "outlinewidth": 0,
              "ticks": ""
             }
            },
            "type": "scattermapbox"
           }
          ],
          "scatterpolar": [
           {
            "marker": {
             "colorbar": {
              "outlinewidth": 0,
              "ticks": ""
             }
            },
            "type": "scatterpolar"
           }
          ],
          "scatterpolargl": [
           {
            "marker": {
             "colorbar": {
              "outlinewidth": 0,
              "ticks": ""
             }
            },
            "type": "scatterpolargl"
           }
          ],
          "scatterternary": [
           {
            "marker": {
             "colorbar": {
              "outlinewidth": 0,
              "ticks": ""
             }
            },
            "type": "scatterternary"
           }
          ],
          "surface": [
           {
            "colorbar": {
             "outlinewidth": 0,
             "ticks": ""
            },
            "colorscale": [
             [
              0,
              "#0d0887"
             ],
             [
              0.1111111111111111,
              "#46039f"
             ],
             [
              0.2222222222222222,
              "#7201a8"
             ],
             [
              0.3333333333333333,
              "#9c179e"
             ],
             [
              0.4444444444444444,
              "#bd3786"
             ],
             [
              0.5555555555555556,
              "#d8576b"
             ],
             [
              0.6666666666666666,
              "#ed7953"
             ],
             [
              0.7777777777777778,
              "#fb9f3a"
             ],
             [
              0.8888888888888888,
              "#fdca26"
             ],
             [
              1,
              "#f0f921"
             ]
            ],
            "type": "surface"
           }
          ],
          "table": [
           {
            "cells": {
             "fill": {
              "color": "#EBF0F8"
             },
             "line": {
              "color": "white"
             }
            },
            "header": {
             "fill": {
              "color": "#C8D4E3"
             },
             "line": {
              "color": "white"
             }
            },
            "type": "table"
           }
          ]
         },
         "layout": {
          "annotationdefaults": {
           "arrowcolor": "#2a3f5f",
           "arrowhead": 0,
           "arrowwidth": 1
          },
          "coloraxis": {
           "colorbar": {
            "outlinewidth": 0,
            "ticks": ""
           }
          },
          "colorscale": {
           "diverging": [
            [
             0,
             "#8e0152"
            ],
            [
             0.1,
             "#c51b7d"
            ],
            [
             0.2,
             "#de77ae"
            ],
            [
             0.3,
             "#f1b6da"
            ],
            [
             0.4,
             "#fde0ef"
            ],
            [
             0.5,
             "#f7f7f7"
            ],
            [
             0.6,
             "#e6f5d0"
            ],
            [
             0.7,
             "#b8e186"
            ],
            [
             0.8,
             "#7fbc41"
            ],
            [
             0.9,
             "#4d9221"
            ],
            [
             1,
             "#276419"
            ]
           ],
           "sequential": [
            [
             0,
             "#0d0887"
            ],
            [
             0.1111111111111111,
             "#46039f"
            ],
            [
             0.2222222222222222,
             "#7201a8"
            ],
            [
             0.3333333333333333,
             "#9c179e"
            ],
            [
             0.4444444444444444,
             "#bd3786"
            ],
            [
             0.5555555555555556,
             "#d8576b"
            ],
            [
             0.6666666666666666,
             "#ed7953"
            ],
            [
             0.7777777777777778,
             "#fb9f3a"
            ],
            [
             0.8888888888888888,
             "#fdca26"
            ],
            [
             1,
             "#f0f921"
            ]
           ],
           "sequentialminus": [
            [
             0,
             "#0d0887"
            ],
            [
             0.1111111111111111,
             "#46039f"
            ],
            [
             0.2222222222222222,
             "#7201a8"
            ],
            [
             0.3333333333333333,
             "#9c179e"
            ],
            [
             0.4444444444444444,
             "#bd3786"
            ],
            [
             0.5555555555555556,
             "#d8576b"
            ],
            [
             0.6666666666666666,
             "#ed7953"
            ],
            [
             0.7777777777777778,
             "#fb9f3a"
            ],
            [
             0.8888888888888888,
             "#fdca26"
            ],
            [
             1,
             "#f0f921"
            ]
           ]
          },
          "colorway": [
           "#636efa",
           "#EF553B",
           "#00cc96",
           "#ab63fa",
           "#FFA15A",
           "#19d3f3",
           "#FF6692",
           "#B6E880",
           "#FF97FF",
           "#FECB52"
          ],
          "font": {
           "color": "#2a3f5f"
          },
          "geo": {
           "bgcolor": "white",
           "lakecolor": "white",
           "landcolor": "#E5ECF6",
           "showlakes": true,
           "showland": true,
           "subunitcolor": "white"
          },
          "hoverlabel": {
           "align": "left"
          },
          "hovermode": "closest",
          "mapbox": {
           "style": "light"
          },
          "paper_bgcolor": "white",
          "plot_bgcolor": "#E5ECF6",
          "polar": {
           "angularaxis": {
            "gridcolor": "white",
            "linecolor": "white",
            "ticks": ""
           },
           "bgcolor": "#E5ECF6",
           "radialaxis": {
            "gridcolor": "white",
            "linecolor": "white",
            "ticks": ""
           }
          },
          "scene": {
           "xaxis": {
            "backgroundcolor": "#E5ECF6",
            "gridcolor": "white",
            "gridwidth": 2,
            "linecolor": "white",
            "showbackground": true,
            "ticks": "",
            "zerolinecolor": "white"
           },
           "yaxis": {
            "backgroundcolor": "#E5ECF6",
            "gridcolor": "white",
            "gridwidth": 2,
            "linecolor": "white",
            "showbackground": true,
            "ticks": "",
            "zerolinecolor": "white"
           },
           "zaxis": {
            "backgroundcolor": "#E5ECF6",
            "gridcolor": "white",
            "gridwidth": 2,
            "linecolor": "white",
            "showbackground": true,
            "ticks": "",
            "zerolinecolor": "white"
           }
          },
          "shapedefaults": {
           "line": {
            "color": "#2a3f5f"
           }
          },
          "ternary": {
           "aaxis": {
            "gridcolor": "white",
            "linecolor": "white",
            "ticks": ""
           },
           "baxis": {
            "gridcolor": "white",
            "linecolor": "white",
            "ticks": ""
           },
           "bgcolor": "#E5ECF6",
           "caxis": {
            "gridcolor": "white",
            "linecolor": "white",
            "ticks": ""
           }
          },
          "title": {
           "x": 0.05
          },
          "xaxis": {
           "automargin": true,
           "gridcolor": "white",
           "linecolor": "white",
           "ticks": "",
           "title": {
            "standoff": 15
           },
           "zerolinecolor": "white",
           "zerolinewidth": 2
          },
          "yaxis": {
           "automargin": true,
           "gridcolor": "white",
           "linecolor": "white",
           "ticks": "",
           "title": {
            "standoff": 15
           },
           "zerolinecolor": "white",
           "zerolinewidth": 2
          }
         }
        },
        "xaxis": {
         "anchor": "y",
         "domain": [
          0,
          1
         ],
         "title": {
          "text": "Date"
         }
        },
        "yaxis": {
         "anchor": "x",
         "domain": [
          0,
          1
         ],
         "title": {
          "text": "Frequency"
         }
        }
       }
      },
      "text/html": [
       "<div>\n",
       "        \n",
       "        \n",
       "            <div id=\"46195285-1bb5-4be2-850f-b8e53e8c6dda\" class=\"plotly-graph-div\" style=\"height:525px; width:100%;\"></div>\n",
       "            <script type=\"text/javascript\">\n",
       "                require([\"plotly\"], function(Plotly) {\n",
       "                    window.PLOTLYENV=window.PLOTLYENV || {};\n",
       "                    \n",
       "                if (document.getElementById(\"46195285-1bb5-4be2-850f-b8e53e8c6dda\")) {\n",
       "                    Plotly.newPlot(\n",
       "                        '46195285-1bb5-4be2-850f-b8e53e8c6dda',\n",
       "                        [{\"hovertemplate\": \"Date=%{x}<br>Frequency=%{y}<extra></extra>\", \"legendgroup\": \"\", \"line\": {\"color\": \"#636efa\", \"dash\": \"solid\"}, \"mode\": \"lines\", \"name\": \"\", \"showlegend\": false, \"type\": \"scatter\", \"x\": [\"1917-01-06T00:00:00\", \"1917-01-13T00:00:00\", \"1917-01-20T00:00:00\", \"1917-01-27T00:00:00\", \"1917-02-03T00:00:00\", \"1917-02-10T00:00:00\", \"1917-02-17T00:00:00\", \"1917-02-24T00:00:00\", \"1917-03-03T00:00:00\", \"1917-03-10T00:00:00\", \"1917-03-17T00:00:00\", \"1917-03-24T00:00:00\", \"1917-03-31T00:00:00\", \"1917-04-07T00:00:00\", \"1917-04-14T00:00:00\", \"1917-04-21T00:00:00\", \"1917-04-28T00:00:00\", \"1917-05-05T00:00:00\", \"1917-05-12T00:00:00\", \"1917-05-19T00:00:00\", \"1917-05-26T00:00:00\", \"1917-06-02T00:00:00\", \"1917-06-09T00:00:00\", \"1917-06-16T00:00:00\", \"1917-06-23T00:00:00\", \"1917-06-30T00:00:00\", \"1917-07-07T00:00:00\", \"1917-07-14T00:00:00\", \"1917-07-28T00:00:00\", \"1917-08-04T00:00:00\", \"1917-08-11T00:00:00\", \"1917-08-18T00:00:00\", \"1917-08-25T00:00:00\", \"1917-09-01T00:00:00\", \"1917-09-08T00:00:00\", \"1917-09-15T00:00:00\", \"1917-09-22T00:00:00\", \"1917-09-29T00:00:00\", \"1917-10-06T00:00:00\", \"1917-10-13T00:00:00\", \"1917-10-20T00:00:00\", \"1917-10-27T00:00:00\", \"1917-11-03T00:00:00\", \"1917-11-10T00:00:00\", \"1917-11-17T00:00:00\", \"1917-11-24T00:00:00\", \"1917-12-01T00:00:00\", \"1917-12-08T00:00:00\", \"1917-12-15T00:00:00\", \"1917-12-22T00:00:00\", \"1917-12-29T00:00:00\", \"1918-01-05T00:00:00\", \"1918-01-12T00:00:00\", \"1918-01-19T00:00:00\", \"1918-01-26T00:00:00\", \"1918-02-02T00:00:00\", \"1918-02-09T00:00:00\", \"1918-02-16T00:00:00\", \"1918-02-23T00:00:00\", \"1918-03-02T00:00:00\", \"1918-03-09T00:00:00\", \"1918-03-16T00:00:00\", \"1918-03-23T00:00:00\", \"1918-03-30T00:00:00\", \"1918-04-06T00:00:00\", \"1918-04-13T00:00:00\", \"1918-04-20T00:00:00\", \"1918-04-27T00:00:00\", \"1918-05-04T00:00:00\", \"1918-05-11T00:00:00\", \"1918-05-18T00:00:00\", \"1918-05-25T00:00:00\", \"1918-06-01T00:00:00\", \"1918-06-08T00:00:00\", \"1918-06-15T00:00:00\", \"1918-06-22T00:00:00\", \"1918-06-29T00:00:00\", \"1918-07-06T00:00:00\", \"1918-07-13T00:00:00\", \"1918-07-20T00:00:00\", \"1918-07-27T00:00:00\", \"1918-08-03T00:00:00\", \"1918-08-10T00:00:00\", \"1918-08-17T00:00:00\", \"1918-08-24T00:00:00\", \"1918-08-31T00:00:00\", \"1918-09-07T00:00:00\", \"1918-09-14T00:00:00\", \"1918-09-21T00:00:00\", \"1918-09-28T00:00:00\", \"1918-10-05T00:00:00\", \"1918-10-12T00:00:00\", \"1918-10-19T00:00:00\", \"1918-10-26T00:00:00\", \"1918-11-02T00:00:00\", \"1918-11-09T00:00:00\", \"1918-11-16T00:00:00\", \"1918-11-23T00:00:00\", \"1918-11-30T00:00:00\", \"1918-12-07T00:00:00\", \"1918-12-14T00:00:00\", \"1918-12-21T00:00:00\", \"1918-12-28T00:00:00\", \"1919-01-04T00:00:00\", \"1919-01-11T00:00:00\", \"1919-01-18T00:00:00\", \"1919-01-25T00:00:00\", \"1919-02-01T00:00:00\", \"1919-02-08T00:00:00\", \"1919-02-15T00:00:00\", \"1919-02-22T00:00:00\", \"1919-03-01T00:00:00\", \"1919-03-08T00:00:00\", \"1919-03-15T00:00:00\", \"1919-03-22T00:00:00\", \"1919-03-29T00:00:00\", \"1919-04-05T00:00:00\", \"1919-04-12T00:00:00\", \"1919-04-19T00:00:00\", \"1919-04-26T00:00:00\", \"1919-05-03T00:00:00\", \"1919-05-10T00:00:00\", \"1919-05-17T00:00:00\", \"1919-05-24T00:00:00\", \"1919-05-31T00:00:00\", \"1919-06-07T00:00:00\", \"1919-06-14T00:00:00\", \"1919-06-21T00:00:00\", \"1919-06-28T00:00:00\", \"1919-07-05T00:00:00\", \"1919-07-12T00:00:00\", \"1919-07-19T00:00:00\", \"1919-07-26T00:00:00\", \"1919-08-02T00:00:00\", \"1919-08-09T00:00:00\", \"1919-08-16T00:00:00\", \"1919-08-23T00:00:00\", \"1919-08-30T00:00:00\", \"1919-09-06T00:00:00\", \"1919-09-13T00:00:00\", \"1919-09-20T00:00:00\", \"1919-09-27T00:00:00\", \"1919-10-04T00:00:00\", \"1919-10-11T00:00:00\", \"1919-10-18T00:00:00\", \"1919-10-25T00:00:00\", \"1919-11-01T00:00:00\", \"1919-11-08T00:00:00\", \"1919-11-15T00:00:00\", \"1919-11-22T00:00:00\", \"1919-11-29T00:00:00\", \"1919-12-06T00:00:00\", \"1919-12-13T00:00:00\", \"1919-12-20T00:00:00\", \"1919-12-27T00:00:00\", \"1920-01-03T00:00:00\", \"1920-01-10T00:00:00\", \"1920-01-17T00:00:00\", \"1920-01-24T00:00:00\", \"1920-01-31T00:00:00\", \"1920-02-07T00:00:00\", \"1920-02-14T00:00:00\", \"1920-02-21T00:00:00\", \"1920-02-28T00:00:00\", \"1920-03-06T00:00:00\", \"1920-03-13T00:00:00\", \"1920-03-20T00:00:00\", \"1920-03-27T00:00:00\", \"1920-04-03T00:00:00\", \"1920-04-10T00:00:00\", \"1920-04-17T00:00:00\", \"1920-04-24T00:00:00\", \"1920-05-01T00:00:00\", \"1920-05-08T00:00:00\", \"1920-05-15T00:00:00\", \"1920-05-22T00:00:00\", \"1920-05-29T00:00:00\", \"1920-06-05T00:00:00\", \"1920-06-12T00:00:00\", \"1920-06-19T00:00:00\", \"1920-06-26T00:00:00\", \"1920-07-03T00:00:00\", \"1920-07-10T00:00:00\", \"1920-07-17T00:00:00\", \"1920-07-24T00:00:00\", \"1920-07-31T00:00:00\", \"1920-08-07T00:00:00\", \"1920-08-14T00:00:00\", \"1920-08-21T00:00:00\", \"1920-08-28T00:00:00\", \"1920-09-04T00:00:00\", \"1920-09-11T00:00:00\", \"1920-09-18T00:00:00\", \"1920-09-25T00:00:00\", \"1920-10-02T00:00:00\", \"1920-10-09T00:00:00\", \"1920-10-16T00:00:00\", \"1920-10-23T00:00:00\", \"1920-10-30T00:00:00\", \"1920-11-06T00:00:00\", \"1920-11-13T00:00:00\", \"1920-11-20T00:00:00\", \"1920-11-27T00:00:00\", \"1920-12-04T00:00:00\", \"1920-12-11T00:00:00\", \"1920-12-18T00:00:00\", \"1920-12-25T00:00:00\", \"1921-01-01T00:00:00\", \"1921-01-08T00:00:00\", \"1921-01-15T00:00:00\", \"1921-01-22T00:00:00\", \"1921-01-29T00:00:00\", \"1921-02-05T00:00:00\", \"1921-02-12T00:00:00\", \"1921-02-19T00:00:00\", \"1921-02-26T00:00:00\", \"1921-03-05T00:00:00\", \"1921-03-12T00:00:00\", \"1921-03-19T00:00:00\", \"1921-03-26T00:00:00\", \"1921-04-16T00:00:00\", \"1921-04-23T00:00:00\", \"1921-04-30T00:00:00\", \"1921-05-07T00:00:00\", \"1921-05-14T00:00:00\", \"1921-05-21T00:00:00\", \"1921-05-28T00:00:00\", \"1921-06-04T00:00:00\", \"1921-06-11T00:00:00\", \"1921-06-18T00:00:00\", \"1921-06-25T00:00:00\", \"1921-07-02T00:00:00\", \"1921-07-09T00:00:00\", \"1921-07-16T00:00:00\", \"1921-07-23T00:00:00\", \"1921-07-30T00:00:00\", \"1921-08-06T00:00:00\", \"1921-08-13T00:00:00\", \"1921-08-20T00:00:00\", \"1921-08-27T00:00:00\", \"1921-09-03T00:00:00\", \"1921-09-10T00:00:00\", \"1921-09-17T00:00:00\", \"1921-09-24T00:00:00\", \"1921-10-08T00:00:00\", \"1921-10-15T00:00:00\", \"1921-10-22T00:00:00\", \"1921-10-29T00:00:00\", \"1921-11-05T00:00:00\", \"1921-11-12T00:00:00\", \"1921-11-19T00:00:00\", \"1921-11-26T00:00:00\", \"1921-12-03T00:00:00\", \"1921-12-10T00:00:00\", \"1921-12-17T00:00:00\", \"1921-12-24T00:00:00\", \"1921-12-31T00:00:00\", \"1922-01-07T00:00:00\", \"1922-01-14T00:00:00\", \"1922-01-21T00:00:00\", \"1922-01-28T00:00:00\", \"1922-02-04T00:00:00\", \"1922-02-11T00:00:00\", \"1922-02-18T00:00:00\", \"1922-02-25T00:00:00\", \"1922-03-04T00:00:00\", \"1922-03-11T00:00:00\", \"1922-03-18T00:00:00\", \"1922-03-25T00:00:00\", \"1922-04-01T00:00:00\", \"1922-04-08T00:00:00\", \"1922-04-15T00:00:00\", \"1922-04-22T00:00:00\", \"1922-04-29T00:00:00\", \"1922-05-06T00:00:00\", \"1922-05-13T00:00:00\", \"1922-05-20T00:00:00\", \"1922-05-27T00:00:00\", \"1922-06-03T00:00:00\", \"1922-06-10T00:00:00\", \"1922-06-17T00:00:00\", \"1922-06-24T00:00:00\", \"1922-07-01T00:00:00\", \"1922-07-08T00:00:00\", \"1922-07-15T00:00:00\", \"1922-07-22T00:00:00\", \"1922-07-29T00:00:00\", \"1922-08-05T00:00:00\", \"1922-08-12T00:00:00\", \"1922-08-19T00:00:00\", \"1922-08-26T00:00:00\", \"1922-09-02T00:00:00\", \"1922-09-09T00:00:00\", \"1922-09-16T00:00:00\", \"1922-09-23T00:00:00\", \"1922-09-30T00:00:00\", \"1922-10-07T00:00:00\", \"1922-10-14T00:00:00\", \"1922-10-21T00:00:00\", \"1922-10-28T00:00:00\", \"1922-11-04T00:00:00\", \"1922-11-11T00:00:00\", \"1922-11-18T00:00:00\", \"1922-11-25T00:00:00\", \"1922-12-02T00:00:00\", \"1922-12-09T00:00:00\", \"1922-12-16T00:00:00\", \"1922-12-23T00:00:00\", \"1922-12-30T00:00:00\", \"1923-01-06T00:00:00\", \"1923-01-13T00:00:00\", \"1923-01-20T00:00:00\", \"1923-01-27T00:00:00\", \"1923-02-03T00:00:00\", \"1923-02-10T00:00:00\", \"1923-02-17T00:00:00\", \"1923-02-24T00:00:00\", \"1923-03-03T00:00:00\", \"1923-03-10T00:00:00\", \"1923-03-17T00:00:00\", \"1923-03-24T00:00:00\", \"1923-03-31T00:00:00\", \"1923-04-07T00:00:00\", \"1923-04-14T00:00:00\", \"1923-04-21T00:00:00\", \"1923-04-28T00:00:00\", \"1923-05-05T00:00:00\", \"1923-05-12T00:00:00\", \"1923-05-19T00:00:00\", \"1923-05-26T00:00:00\", \"1923-06-02T00:00:00\", \"1923-06-09T00:00:00\", \"1923-06-16T00:00:00\", \"1923-06-23T00:00:00\", \"1923-06-30T00:00:00\", \"1923-07-07T00:00:00\", \"1923-07-14T00:00:00\", \"1923-07-21T00:00:00\", \"1923-07-28T00:00:00\", \"1923-08-04T00:00:00\", \"1923-08-11T00:00:00\", \"1923-08-18T00:00:00\", \"1923-08-25T00:00:00\", \"1923-09-01T00:00:00\", \"1923-09-08T00:00:00\", \"1923-09-15T00:00:00\", \"1923-09-22T00:00:00\", \"1923-09-29T00:00:00\", \"1923-10-06T00:00:00\", \"1923-10-13T00:00:00\", \"1923-10-20T00:00:00\", \"1923-10-27T00:00:00\", \"1923-11-03T00:00:00\", \"1923-11-10T00:00:00\", \"1923-11-17T00:00:00\", \"1923-11-24T00:00:00\", \"1923-12-01T00:00:00\", \"1923-12-08T00:00:00\", \"1923-12-15T00:00:00\", \"1923-12-22T00:00:00\", \"1923-12-29T00:00:00\", \"1924-01-05T00:00:00\", \"1924-01-12T00:00:00\", \"1924-01-19T00:00:00\", \"1924-01-26T00:00:00\", \"1924-02-02T00:00:00\", \"1924-02-09T00:00:00\", \"1924-02-16T00:00:00\", \"1924-02-23T00:00:00\", \"1924-03-01T00:00:00\", \"1924-03-08T00:00:00\", \"1924-03-15T00:00:00\", \"1924-03-22T00:00:00\", \"1924-03-29T00:00:00\", \"1924-04-05T00:00:00\", \"1924-04-12T00:00:00\", \"1924-04-19T00:00:00\", \"1924-04-26T00:00:00\", \"1924-05-03T00:00:00\", \"1924-05-10T00:00:00\", \"1924-05-17T00:00:00\", \"1924-05-24T00:00:00\", \"1924-05-31T00:00:00\", \"1924-06-07T00:00:00\", \"1924-06-14T00:00:00\", \"1924-06-21T00:00:00\", \"1924-06-28T00:00:00\", \"1924-07-05T00:00:00\", \"1924-07-12T00:00:00\", \"1924-07-19T00:00:00\", \"1924-07-26T00:00:00\", \"1924-08-02T00:00:00\", \"1924-08-09T00:00:00\", \"1924-08-16T00:00:00\", \"1924-08-23T00:00:00\", \"1924-08-30T00:00:00\", \"1924-09-06T00:00:00\", \"1924-09-13T00:00:00\", \"1924-09-20T00:00:00\", \"1924-09-27T00:00:00\", \"1924-10-04T00:00:00\", \"1924-10-11T00:00:00\", \"1924-10-18T00:00:00\", \"1924-10-25T00:00:00\", \"1924-11-01T00:00:00\", \"1924-11-08T00:00:00\", \"1924-11-15T00:00:00\", \"1924-11-22T00:00:00\", \"1924-11-29T00:00:00\", \"1924-12-06T00:00:00\", \"1924-12-13T00:00:00\", \"1924-12-20T00:00:00\", \"1924-12-27T00:00:00\", \"1925-01-03T00:00:00\", \"1925-01-10T00:00:00\", \"1925-01-17T00:00:00\", \"1925-01-24T00:00:00\", \"1925-01-31T00:00:00\", \"1925-02-07T00:00:00\", \"1925-02-14T00:00:00\", \"1925-02-21T00:00:00\", \"1925-02-28T00:00:00\", \"1925-03-07T00:00:00\", \"1925-03-14T00:00:00\", \"1925-03-21T00:00:00\", \"1925-03-28T00:00:00\", \"1925-04-04T00:00:00\", \"1925-04-11T00:00:00\", \"1925-04-18T00:00:00\", \"1925-04-25T00:00:00\", \"1925-05-02T00:00:00\", \"1925-05-09T00:00:00\", \"1925-05-16T00:00:00\", \"1925-05-23T00:00:00\", \"1925-05-30T00:00:00\", \"1925-06-06T00:00:00\", \"1925-06-13T00:00:00\", \"1925-06-20T00:00:00\", \"1925-06-27T00:00:00\", \"1925-07-04T00:00:00\", \"1925-07-11T00:00:00\", \"1925-07-18T00:00:00\", \"1925-07-25T00:00:00\", \"1925-08-01T00:00:00\", \"1925-08-08T00:00:00\", \"1925-08-15T00:00:00\", \"1925-08-22T00:00:00\", \"1925-09-05T00:00:00\", \"1925-09-12T00:00:00\", \"1925-09-19T00:00:00\", \"1925-09-26T00:00:00\", \"1925-10-03T00:00:00\", \"1925-10-10T00:00:00\", \"1925-10-17T00:00:00\", \"1925-10-24T00:00:00\", \"1925-10-31T00:00:00\", \"1925-11-07T00:00:00\", \"1925-11-14T00:00:00\", \"1925-11-21T00:00:00\", \"1925-11-28T00:00:00\", \"1925-12-05T00:00:00\", \"1925-12-12T00:00:00\", \"1925-12-19T00:00:00\", \"1925-12-26T00:00:00\", \"1926-01-02T00:00:00\", \"1926-01-09T00:00:00\", \"1926-01-16T00:00:00\", \"1926-01-23T00:00:00\", \"1926-01-30T00:00:00\", \"1926-02-06T00:00:00\", \"1926-02-13T00:00:00\", \"1926-02-20T00:00:00\", \"1926-02-27T00:00:00\", \"1926-03-06T00:00:00\", \"1926-03-13T00:00:00\", \"1926-03-20T00:00:00\", \"1926-03-27T00:00:00\", \"1926-04-03T00:00:00\", \"1926-04-10T00:00:00\", \"1926-04-17T00:00:00\", \"1926-04-24T00:00:00\", \"1926-05-01T00:00:00\", \"1926-05-08T00:00:00\", \"1926-05-15T00:00:00\", \"1926-05-22T00:00:00\", \"1926-05-29T00:00:00\", \"1926-06-05T00:00:00\", \"1926-06-12T00:00:00\", \"1926-06-19T00:00:00\", \"1926-06-26T00:00:00\", \"1926-07-03T00:00:00\", \"1926-07-10T00:00:00\", \"1926-07-17T00:00:00\", \"1926-07-24T00:00:00\", \"1926-07-31T00:00:00\", \"1926-08-07T00:00:00\", \"1926-08-14T00:00:00\", \"1926-08-21T00:00:00\", \"1926-08-28T00:00:00\", \"1926-09-04T00:00:00\", \"1926-09-11T00:00:00\", \"1926-09-18T00:00:00\", \"1926-09-25T00:00:00\", \"1926-10-02T00:00:00\", \"1926-10-09T00:00:00\", \"1926-10-16T00:00:00\", \"1926-10-23T00:00:00\", \"1926-10-30T00:00:00\", \"1926-11-06T00:00:00\", \"1926-11-13T00:00:00\", \"1926-11-20T00:00:00\", \"1926-11-27T00:00:00\", \"1926-12-04T00:00:00\", \"1926-12-11T00:00:00\", \"1926-12-18T00:00:00\", \"1927-01-01T00:00:00\", \"1927-01-08T00:00:00\", \"1927-01-15T00:00:00\", \"1927-01-22T00:00:00\", \"1927-01-29T00:00:00\", \"1927-02-05T00:00:00\", \"1927-02-12T00:00:00\", \"1927-02-19T00:00:00\", \"1927-02-26T00:00:00\", \"1927-03-05T00:00:00\", \"1927-03-12T00:00:00\", \"1927-03-19T00:00:00\", \"1927-03-26T00:00:00\", \"1927-04-02T00:00:00\", \"1927-04-09T00:00:00\", \"1927-04-16T00:00:00\", \"1927-04-23T00:00:00\", \"1927-04-30T00:00:00\", \"1927-05-07T00:00:00\", \"1927-05-14T00:00:00\", \"1927-05-21T00:00:00\", \"1927-05-28T00:00:00\", \"1927-06-04T00:00:00\", \"1927-06-11T00:00:00\", \"1927-06-18T00:00:00\", \"1927-06-25T00:00:00\", \"1927-07-02T00:00:00\", \"1927-07-09T00:00:00\", \"1927-07-16T00:00:00\", \"1927-07-23T00:00:00\", \"1927-07-30T00:00:00\", \"1927-08-06T00:00:00\", \"1927-08-13T00:00:00\", \"1927-08-20T00:00:00\", \"1927-08-27T00:00:00\", \"1927-09-03T00:00:00\", \"1927-09-10T00:00:00\", \"1927-09-17T00:00:00\", \"1927-09-24T00:00:00\", \"1927-10-01T00:00:00\", \"1927-10-08T00:00:00\", \"1927-10-15T00:00:00\", \"1927-10-22T00:00:00\", \"1927-10-29T00:00:00\", \"1927-11-05T00:00:00\", \"1927-11-12T00:00:00\", \"1927-11-19T00:00:00\", \"1927-11-26T00:00:00\", \"1927-12-03T00:00:00\", \"1927-12-10T00:00:00\", \"1927-12-17T00:00:00\", \"1927-12-24T00:00:00\", \"1927-12-31T00:00:00\", \"1928-01-07T00:00:00\", \"1928-01-14T00:00:00\", \"1928-01-21T00:00:00\", \"1928-01-28T00:00:00\", \"1928-02-04T00:00:00\", \"1928-02-11T00:00:00\", \"1928-02-18T00:00:00\", \"1928-02-25T00:00:00\", \"1928-03-03T00:00:00\", \"1928-03-10T00:00:00\", \"1928-03-17T00:00:00\", \"1928-03-24T00:00:00\", \"1928-03-31T00:00:00\", \"1928-04-07T00:00:00\", \"1928-04-14T00:00:00\", \"1928-04-21T00:00:00\", \"1928-04-28T00:00:00\", \"1928-05-05T00:00:00\", \"1928-05-12T00:00:00\", \"1928-05-19T00:00:00\", \"1928-05-26T00:00:00\", \"1928-06-02T00:00:00\", \"1928-06-09T00:00:00\", \"1928-06-16T00:00:00\", \"1928-06-23T00:00:00\", \"1928-06-30T00:00:00\", \"1928-07-07T00:00:00\", \"1928-07-14T00:00:00\", \"1928-07-21T00:00:00\", \"1928-07-28T00:00:00\", \"1928-08-04T00:00:00\", \"1928-08-11T00:00:00\", \"1928-08-18T00:00:00\", \"1928-08-25T00:00:00\", \"1928-09-01T00:00:00\", \"1928-09-08T00:00:00\", \"1928-09-15T00:00:00\", \"1928-09-22T00:00:00\", \"1928-09-29T00:00:00\", \"1928-10-06T00:00:00\", \"1928-10-13T00:00:00\", \"1928-10-20T00:00:00\", \"1928-10-27T00:00:00\", \"1928-11-03T00:00:00\", \"1928-11-10T00:00:00\", \"1928-11-17T00:00:00\", \"1928-11-24T00:00:00\", \"1928-12-01T00:00:00\", \"1928-12-08T00:00:00\", \"1928-12-15T00:00:00\", \"1928-12-22T00:00:00\", \"1929-01-05T00:00:00\", \"1929-01-12T00:00:00\", \"1929-01-19T00:00:00\", \"1929-01-26T00:00:00\", \"1929-02-02T00:00:00\", \"1929-02-09T00:00:00\", \"1929-02-16T00:00:00\", \"1929-02-23T00:00:00\", \"1929-03-02T00:00:00\", \"1929-03-09T00:00:00\", \"1929-03-16T00:00:00\", \"1929-03-23T00:00:00\", \"1929-03-30T00:00:00\", \"1929-04-06T00:00:00\", \"1929-04-13T00:00:00\", \"1929-04-20T00:00:00\", \"1929-04-27T00:00:00\", \"1929-05-04T00:00:00\", \"1929-05-11T00:00:00\", \"1929-05-18T00:00:00\", \"1929-05-25T00:00:00\", \"1929-06-01T00:00:00\", \"1929-06-08T00:00:00\", \"1929-06-15T00:00:00\", \"1929-06-22T00:00:00\", \"1929-06-29T00:00:00\", \"1929-07-06T00:00:00\", \"1929-07-13T00:00:00\", \"1929-07-20T00:00:00\", \"1929-07-27T00:00:00\", \"1929-08-03T00:00:00\", \"1929-08-10T00:00:00\", \"1929-08-17T00:00:00\", \"1929-08-24T00:00:00\", \"1929-08-31T00:00:00\", \"1929-09-07T00:00:00\", \"1929-09-14T00:00:00\", \"1929-09-21T00:00:00\", \"1929-09-28T00:00:00\", \"1929-10-05T00:00:00\", \"1929-10-12T00:00:00\", \"1929-10-19T00:00:00\", \"1929-10-26T00:00:00\", \"1929-11-02T00:00:00\", \"1929-11-09T00:00:00\", \"1929-11-16T00:00:00\", \"1929-11-23T00:00:00\", \"1929-11-30T00:00:00\", \"1929-12-07T00:00:00\", \"1929-12-14T00:00:00\", \"1929-12-21T00:00:00\", \"1929-12-28T00:00:00\", \"1930-01-04T00:00:00\", \"1930-01-11T00:00:00\", \"1930-01-18T00:00:00\", \"1930-01-25T00:00:00\", \"1930-02-01T00:00:00\", \"1930-02-08T00:00:00\", \"1930-02-15T00:00:00\", \"1930-02-22T00:00:00\", \"1930-03-01T00:00:00\", \"1930-03-08T00:00:00\", \"1930-03-15T00:00:00\", \"1930-03-29T00:00:00\", \"1930-04-05T00:00:00\", \"1930-04-12T00:00:00\", \"1930-04-19T00:00:00\", \"1930-04-26T00:00:00\", \"1930-05-03T00:00:00\", \"1930-05-10T00:00:00\", \"1930-05-17T00:00:00\", \"1930-05-24T00:00:00\", \"1930-05-31T00:00:00\", \"1930-06-07T00:00:00\", \"1930-06-14T00:00:00\", \"1930-06-21T00:00:00\", \"1930-06-28T00:00:00\", \"1930-07-05T00:00:00\", \"1930-07-12T00:00:00\", \"1930-07-19T00:00:00\", \"1930-07-26T00:00:00\", \"1930-08-02T00:00:00\", \"1930-08-09T00:00:00\", \"1930-08-16T00:00:00\", \"1930-08-23T00:00:00\", \"1930-08-30T00:00:00\", \"1930-09-06T00:00:00\", \"1930-09-13T00:00:00\", \"1930-09-20T00:00:00\", \"1930-09-27T00:00:00\", \"1930-10-04T00:00:00\", \"1930-10-11T00:00:00\", \"1930-10-18T00:00:00\", \"1930-10-25T00:00:00\", \"1930-11-01T00:00:00\", \"1930-11-08T00:00:00\", \"1930-11-15T00:00:00\", \"1930-11-22T00:00:00\", \"1930-11-29T00:00:00\", \"1930-12-06T00:00:00\", \"1930-12-13T00:00:00\", \"1930-12-20T00:00:00\", \"1930-12-27T00:00:00\", \"1931-01-03T00:00:00\", \"1931-01-10T00:00:00\", \"1931-01-17T00:00:00\", \"1931-01-24T00:00:00\", \"1931-01-31T00:00:00\", \"1931-02-07T00:00:00\", \"1931-02-14T00:00:00\", \"1931-02-21T00:00:00\", \"1931-02-28T00:00:00\", \"1931-03-07T00:00:00\", \"1931-03-14T00:00:00\", \"1931-03-21T00:00:00\", \"1931-03-28T00:00:00\", \"1931-04-04T00:00:00\", \"1931-04-11T00:00:00\", \"1931-04-18T00:00:00\", \"1931-04-25T00:00:00\", \"1931-05-02T00:00:00\", \"1931-05-09T00:00:00\", \"1931-05-16T00:00:00\", \"1931-05-23T00:00:00\", \"1931-05-30T00:00:00\", \"1931-06-06T00:00:00\", \"1931-06-13T00:00:00\", \"1931-06-20T00:00:00\", \"1931-06-27T00:00:00\", \"1931-07-04T00:00:00\", \"1931-07-11T00:00:00\", \"1931-07-18T00:00:00\", \"1931-07-25T00:00:00\", \"1931-08-01T00:00:00\", \"1931-08-08T00:00:00\", \"1931-08-15T00:00:00\", \"1931-08-22T00:00:00\", \"1931-08-29T00:00:00\", \"1931-09-05T00:00:00\", \"1931-09-12T00:00:00\", \"1931-09-19T00:00:00\", \"1931-09-26T00:00:00\", \"1931-10-03T00:00:00\", \"1931-10-10T00:00:00\", \"1931-10-17T00:00:00\", \"1931-10-24T00:00:00\", \"1931-10-31T00:00:00\", \"1931-11-07T00:00:00\", \"1931-11-14T00:00:00\", \"1931-11-21T00:00:00\", \"1931-11-28T00:00:00\", \"1931-12-05T00:00:00\", \"1931-12-12T00:00:00\", \"1931-12-19T00:00:00\", \"1931-12-26T00:00:00\", \"1932-01-02T00:00:00\", \"1932-01-09T00:00:00\", \"1932-01-16T00:00:00\", \"1932-01-23T00:00:00\", \"1932-01-30T00:00:00\", \"1932-02-06T00:00:00\", \"1932-02-13T00:00:00\", \"1932-02-20T00:00:00\", \"1932-02-27T00:00:00\", \"1932-03-05T00:00:00\", \"1932-03-12T00:00:00\", \"1932-03-19T00:00:00\", \"1932-03-26T00:00:00\", \"1932-04-02T00:00:00\", \"1932-04-09T00:00:00\", \"1932-04-16T00:00:00\", \"1932-04-23T00:00:00\", \"1932-04-30T00:00:00\", \"1932-05-07T00:00:00\", \"1932-05-14T00:00:00\", \"1932-05-21T00:00:00\", \"1932-05-28T00:00:00\", \"1932-06-04T00:00:00\", \"1932-06-11T00:00:00\", \"1932-06-18T00:00:00\", \"1932-06-25T00:00:00\", \"1932-07-02T00:00:00\", \"1932-07-09T00:00:00\", \"1932-07-16T00:00:00\", \"1932-07-23T00:00:00\", \"1932-07-30T00:00:00\", \"1932-08-06T00:00:00\", \"1932-08-13T00:00:00\", \"1932-08-20T00:00:00\", \"1932-08-27T00:00:00\", \"1932-09-03T00:00:00\", \"1932-09-10T00:00:00\", \"1932-09-17T00:00:00\", \"1932-09-24T00:00:00\", \"1932-10-01T00:00:00\", \"1932-10-08T00:00:00\", \"1932-10-15T00:00:00\", \"1932-10-22T00:00:00\", \"1932-10-29T00:00:00\", \"1932-11-05T00:00:00\", \"1932-11-12T00:00:00\", \"1932-11-19T00:00:00\", \"1932-11-26T00:00:00\", \"1932-12-03T00:00:00\", \"1932-12-10T00:00:00\", \"1932-12-17T00:00:00\", \"1932-12-24T00:00:00\", \"1932-12-31T00:00:00\"], \"xaxis\": \"x\", \"y\": [0.0, 0.0, 0.0, 0.0, 0.0, 0.0, 0.0, 0.0, 0.0, 0.0, 0.0, 0.0, 0.0, 0.0, 0.0, 0.0, 0.0, 0.0, 0.0, 0.0, 0.0, 0.0, 0.0, 0.0, 0.0, 0.0, 0.0, 0.0, 0.0, 0.0, 0.0, 0.0, 0.0, 0.0, 0.0, 0.0, 0.0, 0.0, 0.0, 0.0, 0.0, 0.0, 0.0, 0.0, 0.0, 0.0, 0.0, 0.0, 0.0, 0.0, 0.0, 0.0, 0.0, 0.0, 0.0, 0.0, 0.0, 0.0, 0.0, 0.0, 0.0, 0.0, 0.0, 0.0, 0.0, 0.0, 0.0, 0.0, 0.0, 0.0, 0.0, 0.0, 0.0, 0.0, 0.0, 0.0, 0.0, 0.0, 0.0, 0.0, 0.0, 0.0, 0.0, 0.0, 0.0, 0.0, 0.0, 0.0, 0.0, 0.0, 0.0, 0.0004798464491362764, 0.0007000350017500875, 0.0003946329913180742, 0.00032035880185808104, 0.0034059945504087193, 0.0008375209380234506, 0.0006568144499178982, 0.00016371971185330714, 0.00048007681228996637, 0.0028526148969889066, 0.002620802620802621, 0.0013119055428009183, 0.0011196417146513114, 0.0, 0.0, 0.00033145508783559825, 0.00017067759003242875, 0.0, 0.000180635838150289, 0.00017274140611504577, 0.0, 0.0, 0.0, 0.0001691761123329386, 0.00016803898504453034, 0.0, 0.0, 0.00017027073046143367, 0.00017238407171177384, 0.0, 0.0, 0.0, 0.0, 0.0, 0.0, 0.0, 0.0, 0.0, 0.0, 0.0, 0.0, 0.0, 0.0, 0.0, 0.0, 0.0, 0.0, 0.0, 0.0, 0.0, 0.0, 0.0010922140739584958, 0.0001529753709652746, 0.0, 0.0, 0.0, 0.0, 0.0, 0.0, 0.0, 0.00016818028927009755, 0.0, 0.0, 0.0, 0.0, 0.0, 0.0, 0.0, 0.0, 0.00016725204883759825, 0.0001668613382279326, 0.0, 0.0003443526170798898, 0.0003328340822100183, 0.0010719754977029097, 0.00015639662183296842, 0.00016149870801033592, 0.00014634860237084735, 0.0001398992725237829, 0.0, 0.0, 0.0, 0.0, 0.0, 0.0, 0.0, 0.0, 0.0, 0.0, 0.0, 0.0, 0.0, 0.0, 0.0, 0.00015549681231534753, 0.0, 0.0, 0.0, 0.0, 0.0, 0.0, 0.0, 0.0, 0.0, 0.0, 0.0, 0.0, 0.0, 0.0, 0.0, 0.0, 0.0, 0.0, 0.0, 0.0, 0.0, 0.0, 0.0, 0.0, 0.0, 0.0, 0.0, 0.0, 0.0, 0.0, 0.0, 0.00012512512512512512, 0.0, 0.0, 0.0, 0.0, 0.0, 0.0, 0.0, 0.0, 0.0, 0.0, 0.0, 0.0, 0.0, 0.0, 0.0, 0.0, 0.0, 0.0, 0.0, 0.0, 0.0, 0.0, 0.0, 0.0, 0.0, 0.0, 0.0, 0.0, 0.0, 0.0, 0.0, 0.0, 0.0, 0.0, 0.0, 0.0, 0.0, 0.0, 0.0, 0.0, 0.0, 0.0, 0.0, 0.0, 0.0, 0.0, 0.00015223017202009437, 0.000146177459435755, 0.0009208103130755065, 0.00012236906510034264, 0.0, 0.00013440860215053763, 0.0, 0.0, 0.0, 0.0, 0.00011994722322178242, 0.0, 0.0, 0.0, 0.0, 0.00013147515119642388, 0.0, 0.0, 0.0, 0.0, 0.0, 0.0, 0.0, 0.0, 0.0, 0.0, 0.0, 0.0, 0.0, 0.0, 0.0, 0.0, 0.0, 0.0, 0.0, 0.0, 0.0, 0.0, 0.0, 0.0, 0.0, 0.0, 0.0, 0.0, 0.0, 0.0, 0.0, 0.0, 0.0, 0.0, 0.0, 0.0, 0.0, 0.00014216661927779356, 0.0, 0.0, 0.00014660606949127694, 0.00014587892049598833, 0.0, 0.0, 0.0, 0.0, 0.0, 0.0, 0.0, 0.0, 0.0, 0.0, 0.0, 0.0, 0.0, 0.0, 0.0, 0.0, 0.0, 0.0, 0.0, 0.0, 0.0, 0.0, 0.0, 0.0, 0.0, 0.0, 0.0, 0.0, 0.0, 0.0, 0.0, 0.0, 0.0, 0.0, 0.0, 0.0, 0.0, 0.00013871549452073797, 0.0, 0.0, 0.0, 0.0, 0.0, 0.0, 0.0, 0.0, 0.0, 0.0, 0.0, 0.0, 0.0, 0.0, 0.0, 0.0, 0.0, 0.0, 0.0, 0.0, 0.0, 0.0, 0.0, 0.0, 0.0, 0.0, 0.0, 0.0, 0.00013480722566729578, 0.0, 0.0, 0.0, 0.0, 0.0, 0.0, 0.0, 0.0, 0.0, 0.0, 0.0, 0.0, 0.0, 0.0, 0.0, 0.0, 0.0, 0.0, 0.0, 0.0, 0.0, 0.0, 0.0, 0.0, 0.0, 0.0, 0.0, 0.0, 0.0, 0.0, 0.0, 0.0002948547840188707, 0.0, 0.0006088280060882801, 0.0003079765937788728, 0.0, 0.0, 0.0001444669170759896, 0.0, 0.0, 0.0, 0.0, 0.0, 0.0, 0.0, 0.00013991884706870015, 0.0, 0.0, 0.0, 0.0, 0.0, 0.00013161358252171624, 0.0, 0.0, 0.0, 0.0, 0.0, 0.0, 0.0, 0.0, 0.00014749262536873156, 0.0, 0.0, 0.0, 0.0, 0.0, 0.0, 0.0, 0.0, 0.0, 0.0, 0.0, 0.0, 0.0001465845793022574, 0.00014660606949127694, 0.0, 0.00014357501794687725, 0.0, 0.0, 0.0, 0.0, 0.00043789227849948915, 0.0, 0.0005745475438092502, 0.00029192818566632606, 0.0, 0.0, 0.0, 0.00014423770373575654, 0.0, 0.00013956734124214934, 0.0, 0.0, 0.0, 0.0, 0.0, 0.0, 0.0, 0.0, 0.0, 0.0, 0.0, 0.0, 0.0, 0.0, 0.0, 0.0, 0.0, 0.0, 0.0, 0.0, 0.0, 0.0, 0.0, 0.0, 0.0, 0.0, 0.0, 0.0, 0.0, 0.0, 0.0, 0.0, 0.0, 0.0, 0.0, 0.00015586034912718204, 0.0, 0.0, 0.0, 0.0, 0.0, 0.0, 0.0, 0.0, 0.0, 0.0, 0.0, 0.0, 0.0, 0.0, 0.0, 0.0, 0.0, 0.0, 0.0, 0.0, 0.0, 0.0, 0.0, 0.0, 0.0, 0.0, 0.0, 0.0, 0.0, 0.0, 0.0, 0.0, 0.0, 0.0, 0.0, 0.0, 0.0, 0.0, 0.0, 0.0, 0.0, 0.0, 0.0, 0.0, 0.0, 0.0, 0.0, 0.0, 0.0, 0.0, 0.000154273372415921, 0.0, 0.0001443418013856813, 0.0, 0.0, 0.0001597444089456869, 0.0, 0.0, 0.0, 0.0, 0.0, 0.0, 0.0, 0.0001489203276247208, 0.0, 0.00016056518946692356, 0.0, 0.0, 0.0, 0.0, 0.0, 0.0, 0.0, 0.0, 0.0, 0.0, 0.0, 0.0, 0.0, 0.0, 0.0, 0.0, 0.0, 0.0, 0.0001670843776106934, 0.0, 0.0, 0.0, 0.0, 0.0, 0.0, 0.0, 0.0, 0.0, 0.0, 0.0, 0.0, 0.0001585791309863622, 0.0, 0.0, 0.00015600624024960998, 0.0003083089255433945, 0.0006362334976936536, 0.0006422607578676942, 0.0001588057805304113, 0.0, 0.0, 0.00031887755102040814, 0.00014712373105781962, 0.0, 0.0, 0.0, 0.0, 0.0002981959147159684, 0.0, 0.0, 0.0, 0.0, 0.0, 0.0, 0.0, 0.0, 0.0, 0.0, 0.0, 0.0, 0.0, 0.0, 0.0, 0.0, 0.0, 0.0, 0.0, 0.0, 0.0, 0.0, 0.0, 0.0, 0.0, 0.0, 0.0, 0.00015569048731122528, 0.0, 0.0, 0.0, 0.0, 0.0, 0.0, 0.0, 0.0, 0.0, 0.0, 0.0, 0.00017497812773403323, 0.0, 0.0, 0.0, 0.0, 0.0, 0.0, 0.0, 0.0, 0.0, 0.0, 0.0, 0.0, 0.0, 0.0, 0.0, 0.0, 0.0, 0.0, 0.0, 0.0, 0.0, 0.0, 0.0, 0.0, 0.0, 0.0, 0.0, 0.0, 0.0, 0.0, 0.0, 0.0, 0.0, 0.0, 0.0, 0.0, 0.0, 0.0, 0.0, 0.0, 0.0, 0.0, 0.0, 0.0, 0.0, 0.0, 0.0, 0.00031377470975839345, 0.00016542597187758478, 0.0, 0.0, 0.0, 0.0, 0.0, 0.0, 0.0, 0.0001550147263990079, 0.0001595150741745095, 0.0, 0.0001543924656476764, 0.00015762925598991173, 0.0, 0.0, 0.00015349194167306216, 0.000163826998689384, 0.0, 0.0, 0.0, 0.0, 0.0, 0.0, 0.0, 0.0, 0.0, 0.0, 0.0, 0.0, 0.0, 0.0, 0.0, 0.0, 0.00016753224995811694, 0.0, 0.0, 0.0, 0.00016046213093709883, 0.00016531658125309968, 0.0, 0.0, 0.0, 0.0, 0.0, 0.0, 0.0, 0.00016, 0.0, 0.0, 0.0, 0.0, 0.0, 0.0, 0.0, 0.0, 0.0, 0.0, 0.0001465845793022574, 0.0, 0.00014547570555717196, 0.00014869888475836432, 0.0003017046311660884, 0.0002925687536571094, 0.0, 0.00014757969303423848, 0.0, 0.0004411116012351125, 0.0001439055979277594, 0.0, 0.0, 0.0, 0.0, 0.0, 0.0, 0.0, 0.0, 0.00014409221902017292, 0.0, 0.0, 0.0, 0.00014553922282055013, 0.0, 0.0, 0.0, 0.0, 0.0, 0.00014958863126402394, 0.0, 0.0, 0.0, 0.0, 0.0, 0.00015673981191222572, 0.00015035333032626674, 0.0, 0.0, 0.0, 0.0, 0.0001487652484379649, 0.0, 0.0, 0.0, 0.0, 0.0001429592566118656, 0.00029239766081871346, 0.0005946187007581388, 0.00045024763619990995, 0.0005988023952095808, 0.0], \"yaxis\": \"y\"}],\n",
       "                        {\"legend\": {\"tracegroupgap\": 0}, \"margin\": {\"t\": 60}, \"template\": {\"data\": {\"bar\": [{\"error_x\": {\"color\": \"#2a3f5f\"}, \"error_y\": {\"color\": \"#2a3f5f\"}, \"marker\": {\"line\": {\"color\": \"#E5ECF6\", \"width\": 0.5}}, \"type\": \"bar\"}], \"barpolar\": [{\"marker\": {\"line\": {\"color\": \"#E5ECF6\", \"width\": 0.5}}, \"type\": \"barpolar\"}], \"carpet\": [{\"aaxis\": {\"endlinecolor\": \"#2a3f5f\", \"gridcolor\": \"white\", \"linecolor\": \"white\", \"minorgridcolor\": \"white\", \"startlinecolor\": \"#2a3f5f\"}, \"baxis\": {\"endlinecolor\": \"#2a3f5f\", \"gridcolor\": \"white\", \"linecolor\": \"white\", \"minorgridcolor\": \"white\", \"startlinecolor\": \"#2a3f5f\"}, \"type\": \"carpet\"}], \"choropleth\": [{\"colorbar\": {\"outlinewidth\": 0, \"ticks\": \"\"}, \"type\": \"choropleth\"}], \"contour\": [{\"colorbar\": {\"outlinewidth\": 0, \"ticks\": \"\"}, \"colorscale\": [[0.0, \"#0d0887\"], [0.1111111111111111, \"#46039f\"], [0.2222222222222222, \"#7201a8\"], [0.3333333333333333, \"#9c179e\"], [0.4444444444444444, \"#bd3786\"], [0.5555555555555556, \"#d8576b\"], [0.6666666666666666, \"#ed7953\"], [0.7777777777777778, \"#fb9f3a\"], [0.8888888888888888, \"#fdca26\"], [1.0, \"#f0f921\"]], \"type\": \"contour\"}], \"contourcarpet\": [{\"colorbar\": {\"outlinewidth\": 0, \"ticks\": \"\"}, \"type\": \"contourcarpet\"}], \"heatmap\": [{\"colorbar\": {\"outlinewidth\": 0, \"ticks\": \"\"}, \"colorscale\": [[0.0, \"#0d0887\"], [0.1111111111111111, \"#46039f\"], [0.2222222222222222, \"#7201a8\"], [0.3333333333333333, \"#9c179e\"], [0.4444444444444444, \"#bd3786\"], [0.5555555555555556, \"#d8576b\"], [0.6666666666666666, \"#ed7953\"], [0.7777777777777778, \"#fb9f3a\"], [0.8888888888888888, \"#fdca26\"], [1.0, \"#f0f921\"]], \"type\": \"heatmap\"}], \"heatmapgl\": [{\"colorbar\": {\"outlinewidth\": 0, \"ticks\": \"\"}, \"colorscale\": [[0.0, \"#0d0887\"], [0.1111111111111111, \"#46039f\"], [0.2222222222222222, \"#7201a8\"], [0.3333333333333333, \"#9c179e\"], [0.4444444444444444, \"#bd3786\"], [0.5555555555555556, \"#d8576b\"], [0.6666666666666666, \"#ed7953\"], [0.7777777777777778, \"#fb9f3a\"], [0.8888888888888888, \"#fdca26\"], [1.0, \"#f0f921\"]], \"type\": \"heatmapgl\"}], \"histogram\": [{\"marker\": {\"colorbar\": {\"outlinewidth\": 0, \"ticks\": \"\"}}, \"type\": \"histogram\"}], \"histogram2d\": [{\"colorbar\": {\"outlinewidth\": 0, \"ticks\": \"\"}, \"colorscale\": [[0.0, \"#0d0887\"], [0.1111111111111111, \"#46039f\"], [0.2222222222222222, \"#7201a8\"], [0.3333333333333333, \"#9c179e\"], [0.4444444444444444, \"#bd3786\"], [0.5555555555555556, \"#d8576b\"], [0.6666666666666666, \"#ed7953\"], [0.7777777777777778, \"#fb9f3a\"], [0.8888888888888888, \"#fdca26\"], [1.0, \"#f0f921\"]], \"type\": \"histogram2d\"}], \"histogram2dcontour\": [{\"colorbar\": {\"outlinewidth\": 0, \"ticks\": \"\"}, \"colorscale\": [[0.0, \"#0d0887\"], [0.1111111111111111, \"#46039f\"], [0.2222222222222222, \"#7201a8\"], [0.3333333333333333, \"#9c179e\"], [0.4444444444444444, \"#bd3786\"], [0.5555555555555556, \"#d8576b\"], [0.6666666666666666, \"#ed7953\"], [0.7777777777777778, \"#fb9f3a\"], [0.8888888888888888, \"#fdca26\"], [1.0, \"#f0f921\"]], \"type\": \"histogram2dcontour\"}], \"mesh3d\": [{\"colorbar\": {\"outlinewidth\": 0, \"ticks\": \"\"}, \"type\": \"mesh3d\"}], \"parcoords\": [{\"line\": {\"colorbar\": {\"outlinewidth\": 0, \"ticks\": \"\"}}, \"type\": \"parcoords\"}], \"pie\": [{\"automargin\": true, \"type\": \"pie\"}], \"scatter\": [{\"marker\": {\"colorbar\": {\"outlinewidth\": 0, \"ticks\": \"\"}}, \"type\": \"scatter\"}], \"scatter3d\": [{\"line\": {\"colorbar\": {\"outlinewidth\": 0, \"ticks\": \"\"}}, \"marker\": {\"colorbar\": {\"outlinewidth\": 0, \"ticks\": \"\"}}, \"type\": \"scatter3d\"}], \"scattercarpet\": [{\"marker\": {\"colorbar\": {\"outlinewidth\": 0, \"ticks\": \"\"}}, \"type\": \"scattercarpet\"}], \"scattergeo\": [{\"marker\": {\"colorbar\": {\"outlinewidth\": 0, \"ticks\": \"\"}}, \"type\": \"scattergeo\"}], \"scattergl\": [{\"marker\": {\"colorbar\": {\"outlinewidth\": 0, \"ticks\": \"\"}}, \"type\": \"scattergl\"}], \"scattermapbox\": [{\"marker\": {\"colorbar\": {\"outlinewidth\": 0, \"ticks\": \"\"}}, \"type\": \"scattermapbox\"}], \"scatterpolar\": [{\"marker\": {\"colorbar\": {\"outlinewidth\": 0, \"ticks\": \"\"}}, \"type\": \"scatterpolar\"}], \"scatterpolargl\": [{\"marker\": {\"colorbar\": {\"outlinewidth\": 0, \"ticks\": \"\"}}, \"type\": \"scatterpolargl\"}], \"scatterternary\": [{\"marker\": {\"colorbar\": {\"outlinewidth\": 0, \"ticks\": \"\"}}, \"type\": \"scatterternary\"}], \"surface\": [{\"colorbar\": {\"outlinewidth\": 0, \"ticks\": \"\"}, \"colorscale\": [[0.0, \"#0d0887\"], [0.1111111111111111, \"#46039f\"], [0.2222222222222222, \"#7201a8\"], [0.3333333333333333, \"#9c179e\"], [0.4444444444444444, \"#bd3786\"], [0.5555555555555556, \"#d8576b\"], [0.6666666666666666, \"#ed7953\"], [0.7777777777777778, \"#fb9f3a\"], [0.8888888888888888, \"#fdca26\"], [1.0, \"#f0f921\"]], \"type\": \"surface\"}], \"table\": [{\"cells\": {\"fill\": {\"color\": \"#EBF0F8\"}, \"line\": {\"color\": \"white\"}}, \"header\": {\"fill\": {\"color\": \"#C8D4E3\"}, \"line\": {\"color\": \"white\"}}, \"type\": \"table\"}]}, \"layout\": {\"annotationdefaults\": {\"arrowcolor\": \"#2a3f5f\", \"arrowhead\": 0, \"arrowwidth\": 1}, \"coloraxis\": {\"colorbar\": {\"outlinewidth\": 0, \"ticks\": \"\"}}, \"colorscale\": {\"diverging\": [[0, \"#8e0152\"], [0.1, \"#c51b7d\"], [0.2, \"#de77ae\"], [0.3, \"#f1b6da\"], [0.4, \"#fde0ef\"], [0.5, \"#f7f7f7\"], [0.6, \"#e6f5d0\"], [0.7, \"#b8e186\"], [0.8, \"#7fbc41\"], [0.9, \"#4d9221\"], [1, \"#276419\"]], \"sequential\": [[0.0, \"#0d0887\"], [0.1111111111111111, \"#46039f\"], [0.2222222222222222, \"#7201a8\"], [0.3333333333333333, \"#9c179e\"], [0.4444444444444444, \"#bd3786\"], [0.5555555555555556, \"#d8576b\"], [0.6666666666666666, \"#ed7953\"], [0.7777777777777778, \"#fb9f3a\"], [0.8888888888888888, \"#fdca26\"], [1.0, \"#f0f921\"]], \"sequentialminus\": [[0.0, \"#0d0887\"], [0.1111111111111111, \"#46039f\"], [0.2222222222222222, \"#7201a8\"], [0.3333333333333333, \"#9c179e\"], [0.4444444444444444, \"#bd3786\"], [0.5555555555555556, \"#d8576b\"], [0.6666666666666666, \"#ed7953\"], [0.7777777777777778, \"#fb9f3a\"], [0.8888888888888888, \"#fdca26\"], [1.0, \"#f0f921\"]]}, \"colorway\": [\"#636efa\", \"#EF553B\", \"#00cc96\", \"#ab63fa\", \"#FFA15A\", \"#19d3f3\", \"#FF6692\", \"#B6E880\", \"#FF97FF\", \"#FECB52\"], \"font\": {\"color\": \"#2a3f5f\"}, \"geo\": {\"bgcolor\": \"white\", \"lakecolor\": \"white\", \"landcolor\": \"#E5ECF6\", \"showlakes\": true, \"showland\": true, \"subunitcolor\": \"white\"}, \"hoverlabel\": {\"align\": \"left\"}, \"hovermode\": \"closest\", \"mapbox\": {\"style\": \"light\"}, \"paper_bgcolor\": \"white\", \"plot_bgcolor\": \"#E5ECF6\", \"polar\": {\"angularaxis\": {\"gridcolor\": \"white\", \"linecolor\": \"white\", \"ticks\": \"\"}, \"bgcolor\": \"#E5ECF6\", \"radialaxis\": {\"gridcolor\": \"white\", \"linecolor\": \"white\", \"ticks\": \"\"}}, \"scene\": {\"xaxis\": {\"backgroundcolor\": \"#E5ECF6\", \"gridcolor\": \"white\", \"gridwidth\": 2, \"linecolor\": \"white\", \"showbackground\": true, \"ticks\": \"\", \"zerolinecolor\": \"white\"}, \"yaxis\": {\"backgroundcolor\": \"#E5ECF6\", \"gridcolor\": \"white\", \"gridwidth\": 2, \"linecolor\": \"white\", \"showbackground\": true, \"ticks\": \"\", \"zerolinecolor\": \"white\"}, \"zaxis\": {\"backgroundcolor\": \"#E5ECF6\", \"gridcolor\": \"white\", \"gridwidth\": 2, \"linecolor\": \"white\", \"showbackground\": true, \"ticks\": \"\", \"zerolinecolor\": \"white\"}}, \"shapedefaults\": {\"line\": {\"color\": \"#2a3f5f\"}}, \"ternary\": {\"aaxis\": {\"gridcolor\": \"white\", \"linecolor\": \"white\", \"ticks\": \"\"}, \"baxis\": {\"gridcolor\": \"white\", \"linecolor\": \"white\", \"ticks\": \"\"}, \"bgcolor\": \"#E5ECF6\", \"caxis\": {\"gridcolor\": \"white\", \"linecolor\": \"white\", \"ticks\": \"\"}}, \"title\": {\"x\": 0.05}, \"xaxis\": {\"automargin\": true, \"gridcolor\": \"white\", \"linecolor\": \"white\", \"ticks\": \"\", \"title\": {\"standoff\": 15}, \"zerolinecolor\": \"white\", \"zerolinewidth\": 2}, \"yaxis\": {\"automargin\": true, \"gridcolor\": \"white\", \"linecolor\": \"white\", \"ticks\": \"\", \"title\": {\"standoff\": 15}, \"zerolinecolor\": \"white\", \"zerolinewidth\": 2}}}, \"xaxis\": {\"anchor\": \"y\", \"domain\": [0.0, 1.0], \"title\": {\"text\": \"Date\"}}, \"yaxis\": {\"anchor\": \"x\", \"domain\": [0.0, 1.0], \"title\": {\"text\": \"Frequency\"}}},\n",
       "                        {\"responsive\": true}\n",
       "                    ).then(function(){\n",
       "                            \n",
       "var gd = document.getElementById('46195285-1bb5-4be2-850f-b8e53e8c6dda');\n",
       "var x = new MutationObserver(function (mutations, observer) {{\n",
       "        var display = window.getComputedStyle(gd).display;\n",
       "        if (!display || display === 'none') {{\n",
       "            console.log([gd, 'removed!']);\n",
       "            Plotly.purge(gd);\n",
       "            observer.disconnect();\n",
       "        }}\n",
       "}});\n",
       "\n",
       "// Listen for the removal of the full notebook cells\n",
       "var notebookContainer = gd.closest('#notebook-container');\n",
       "if (notebookContainer) {{\n",
       "    x.observe(notebookContainer, {childList: true});\n",
       "}}\n",
       "\n",
       "// Listen for the clearing of the current output cell\n",
       "var outputEl = gd.closest('.output');\n",
       "if (outputEl) {{\n",
       "    x.observe(outputEl, {childList: true});\n",
       "}}\n",
       "\n",
       "                        })\n",
       "                };\n",
       "                });\n",
       "            </script>\n",
       "        </div>"
      ]
     },
     "metadata": {},
     "output_type": "display_data"
    }
   ],
   "source": [
    "import plotly.express as px\n",
    "flu_figure = px.line(flu_table, x = \"Date\", y = \"Frequency\")\n",
    "flu_figure.show()"
   ]
  },
  {
   "cell_type": "markdown",
   "metadata": {},
   "source": [
    "## Comparative analysis\n",
    "We can also make comparisons between different titles. Here we are going to compare the Bisbee Daily Review and the Border Vidette to see if there is a difference in the coverage of the [mine strike of 1917](https://en.wikipedia.org/wiki/Bisbee_Deportation#Strike)."
   ]
  },
  {
   "cell_type": "code",
   "execution_count": 22,
   "metadata": {},
   "outputs": [
    {
     "name": "stdout",
     "output_type": "stream",
     "text": [
      "Border Vidette:\n",
      "['19170915.txt', '19170804.txt', '19170811.txt', '19171027.txt', '19170901.txt', '19170818.txt', '19170707.txt', '19170728.txt', '19171013.txt', '19170714.txt', '19170825.txt', '19170908.txt', '19170630.txt', '19171006.txt', '19170922.txt', '19170609.txt', '19170602.txt', '19170929.txt', '19171020.txt', '19170616.txt', '19170623.txt']\n",
      "Bisbee Daily Review:\n",
      "['19170701.txt', '19170915.txt', '19170921.txt', '19170817.txt', '19170804.txt', '19171004.txt', '19170811.txt', '19170815.txt', '19170824.txt']\n"
     ]
    }
   ],
   "source": [
    "# Loop over all volumes of second title in a single year, calculating rel. freq. of 'strike' and 'strikes'\n",
    "# Second title is Bisbee Daily Review?\n",
    "# Look at 'deportation' and 'strike', in June - October of 1917 for Bisbee Daily Review\n",
    "\n",
    "# Get volumes for each title 191706** through 191710**\n",
    "# bv = Border Vidette\n",
    "# bdr = Bisbee Daily Review\n",
    "# Create a pattern that will match papers June - October, 1917\n",
    "date_pattern = re.compile(\"1917((06)|(07)|(08)|(09)|(10))([0-9]{2})*\")\n",
    "\n",
    "# List all the Border Vidette files\n",
    "bv_volumes = os.listdir(\"data/border-vidette/volumes\")\n",
    "\n",
    "# Use date pattern from above to restrict to dates of interest\n",
    "bv_volumes = list(filter(date_pattern.match, bv_volumes))\n",
    "\n",
    "# Do a little reality check to make sure we only see files in desired date range.\n",
    "print(\"Border Vidette:\")\n",
    "print(bv_volumes)\n",
    "\n",
    "# Download and filter files for bisbee-daily-review (like above)\n",
    "bdr_volumes = os.listdir(\"data/bisbee-daily-review/volumes\")\n",
    "bdr_volumes = list(filter(date_pattern.match, bdr_volumes))\n",
    "print(\"Bisbee Daily Review:\")\n",
    "print(bdr_volumes[0:9])\n"
   ]
  },
  {
   "cell_type": "markdown",
   "metadata": {},
   "source": [
    "Calculate relative frequency of \"strike\" for each issue for each paper"
   ]
  },
  {
   "cell_type": "code",
   "execution_count": 32,
   "metadata": {},
   "outputs": [
    {
     "name": "stdout",
     "output_type": "stream",
     "text": [
      "[0.0, 0.00033101621979476995, 0.0, 0.0, 0.0, 0.0, 0.0004702931493964571, 0.0, 0.0001719986240110079, 0.0006744225257123588, 0.0, 0.0, 0.0001563232765358762, 0.0, 0.0, 0.0, 0.0, 0.0, 0.0001857700167193015, 0.0, 0.0]\n"
     ]
    }
   ],
   "source": [
    "# A tool we can re-use to break up words\n",
    "tokenizer = RegexpTokenizer(r'\\w+')\n",
    "\n",
    "# A list of the words of interest\n",
    "strike_words = ['strike', 'strikers', 'strikes']\n",
    "\n",
    "# For all Border Vidette volumes, calculate the relative frequency of 'strike'\n",
    "bv_strike_freq = []\n",
    "bv_file_locations = (\"data/border-vidette/volumes/\")\n",
    "for one_issue in bv_volumes:\n",
    "    # Read in text\n",
    "    issue_location = bv_file_locations + one_issue\n",
    "    issue_file = open(issue_location, \"r\")\n",
    "    issue_text = issue_file.read()\n",
    "    issue_file.close()\n",
    "    \n",
    "    # convert to lower case\n",
    "    issue_text = issue_text.lower()\n",
    "    issue_text = tokenizer.tokenize(issue_text)\n",
    "    \n",
    "    # remove stopwords\n",
    "    filtered_words = []\n",
    "    for word in issue_text:\n",
    "        if word not in stop_words:\n",
    "            if len(word) > 1:\n",
    "                filtered_words.append(word)\n",
    "\n",
    "    # make a table with words in it\n",
    "    word_table = pandas.Series(filtered_words)\n",
    "    # calculate relative frequencies\n",
    "    word_freqs = word_table.value_counts(normalize = True)\n",
    "\n",
    "    # pull out only values for 'strike', 'striker', or 'strikes'\n",
    "    strike_freqs = word_freqs.filter(strike_words)\n",
    "    \n",
    "    # add those frequencies to our list of values for Border Vidette\n",
    "    bv_strike_freq.append(strike_freqs.sum())\n",
    "\n",
    "print(bv_strike_freq)"
   ]
  },
  {
   "cell_type": "code",
   "execution_count": 35,
   "metadata": {},
   "outputs": [
    {
     "name": "stdout",
     "output_type": "stream",
     "text": [
      "[0.0018363939899833056, 0.00013264358668258389, 0.00036768568126904083, 0.0008564393533882881, 0.001246555570135153, 0.000501336898395722, 0.0003936078091789341, 0.00040257648953301127, 0.0006528835690968445, 0.00016173378618793466, 0.0009913070001525087, 0.0004993065187239945, 0.0006412124744972312, 0.0009314781393724166, 0.0002230400356864057, 0.0017501093818363647, 0.0005339598462195643, 0.0009174311926605505, 0.0013420362349783445, 0.0007610832751950276, 0.0005429864253393665, 0.0008604864616796695, 0.00011014428901861439, 0.0009204470742932282, 7.042253521126761e-05, 0.00012219710392863688, 0.0006555793250983369, 0.0007020231029421151, 6.477522995206633e-05, 0.0008223684210526315, 0.0004931395584950541, 0.00039691990156386444, 0.00041564088627425906, 0.00047024400438894405, 0.00043896673982779, 0.0004172876304023845, 0.0, 0.0006618620385350787, 0.0029359953024075164, 0.0005826487210860572, 0.0034113447044823485, 5.990893841361131e-05, 0.0011521369397048335, 0.00038031076822775184, 0.0016028209648982208, 0.0001682274435036169, 0.00017375188231205839, 0.003963287442636629, 0.0002756035718222908, 0.003482223464167491, 0.00014585764294049007, 0.0007113499841922226, 0.0004005264061337758, 0.0006089459698848539, 0.0023553299492385786, 0.0009958408997715424, 0.002026266416510319, 0.00314486907773296, 0.00042835724994645533, 0.00042633015006821284, 0.002056986134389761, 0.0003190606853423521, 0.0003306565895134625, 0.00040950040950040947, 0.0009032943676939426, 0.0009784735812133072, 0.0007957559681697613, 0.0004407875404055245, 0.000826570483919447, 0.0012309685779073533, 0.0002919537545252832, 0.0007710640684144118, 0.00028213292491233725, 0.00028260562385191464, 5.4068667207353336e-05, 0.0015106881184379485, 0.00037895192724122996, 0.001911102891313729, 0.000163363101720758, 0.0009185713513805587, 0.00010626992561105207, 0.0004921259842519685, 0.0004195888029730864, 0.0012987012987012987, 0.0020639834881320948, 0.0009493070058857035, 0.000502108857200241, 0.00019159535061949164, 0.0006932008549477212, 0.00028068205739948076, 0.00019716643663915726, 0.00024286581663630845, 0.000594035879767138, 0.00041992546323027665, 0.0009779951100244498, 0.0008767734736170891, 0.0003065791894046232, 0.0007240474251063445, 0.0003389064618165386, 0.0006942034015966678, 0.0003779697624190065, 0.0016116483272201844, 0.0015514566454059645, 0.0008512570228704386, 0.0007619876993414249, 0.00027649769585253456, 0.001253317605426128, 0.000883538571980783, 0.0007272727272727273, 0.00038847523470378765, 0.0021310421811047593, 0.004035448646937807, 0.0008590604026845639, 0.00035313001605136434, 0.00023315458148752622, 0.00033893709327548807, 6.855419208884623e-05, 0.0, 0.0005108173076923077, 0.002354788069073783, 0.0022373218428902884, 0.0008341953351796856, 0.0006672826198542244]\n"
     ]
    }
   ],
   "source": [
    "# Do same calculations for Bisbee daily review\n",
    "bdr_strike_freq = []\n",
    "bdr_file_locations = (\"data/bisbee-daily-review/volumes/\")\n",
    "for one_issue in bdr_volumes:\n",
    "    # Read in text\n",
    "    issue_location = bdr_file_locations + one_issue\n",
    "    issue_file = open(issue_location, \"r\")\n",
    "    issue_text = issue_file.read()\n",
    "    issue_file.close()\n",
    "    \n",
    "    # convert to lower case\n",
    "    issue_text = issue_text.lower()\n",
    "    issue_text = tokenizer.tokenize(issue_text)\n",
    "    \n",
    "    # remove stopwords\n",
    "    filtered_words = []\n",
    "    for word in issue_text:\n",
    "        if word not in stop_words:\n",
    "            if len(word) > 1:\n",
    "                filtered_words.append(word)\n",
    "\n",
    "    # make a table with words in it\n",
    "    word_table = pandas.Series(filtered_words)\n",
    "    # calculate relative frequencies\n",
    "    word_freqs = word_table.value_counts(normalize = True)\n",
    "\n",
    "    # pull out only values for 'strike', 'striker', or 'strikes'\n",
    "    strike_freqs = word_freqs.filter(strike_words)\n",
    "    \n",
    "    # add those frequencies to our list of values for Border Vidette\n",
    "    bdr_strike_freq.append(strike_freqs.sum())\n",
    "\n",
    "print(bdr_strike_freq)"
   ]
  },
  {
   "cell_type": "code",
   "execution_count": 51,
   "metadata": {},
   "outputs": [
    {
     "name": "stdout",
     "output_type": "stream",
     "text": [
      "0.000095 Border Vidette\n",
      "0.000840 Bisbee Daily Review\n"
     ]
    }
   ],
   "source": [
    "# Calculate mean relative frequencies for each of the papers\n",
    "from statistics import mean\n",
    "# Border Vidette\n",
    "bv_mean = mean(bv_strike_freq)\n",
    "# print the mean, using format instead of str to avoid scientific notation\n",
    "print(format(bv_mean, 'f') + \" Border Vidette\")\n",
    "# Bisbee Daily Review\n",
    "bdr_mean = mean(bdr_strike_freq)\n",
    "print(format(bdr_mean, 'f') + \" Bisbee Daily Review\")"
   ]
  },
  {
   "cell_type": "markdown",
   "metadata": {},
   "source": [
    "But are these _significantly_ different?"
   ]
  },
  {
   "cell_type": "code",
   "execution_count": 49,
   "metadata": {},
   "outputs": [
    {
     "name": "stdout",
     "output_type": "stream",
     "text": [
      "t = -8.8751\n",
      "p = 4.137e-15\n"
     ]
    }
   ],
   "source": [
    "from scipy import stats\n",
    "\n",
    "# run the test\n",
    "compare_strike = stats.ttest_ind(bv_strike_freq, bdr_strike_freq, equal_var = False)\n",
    "\n",
    "# extract values of interest, Student's t and the p-value\n",
    "t_value = compare_strike[0]\n",
    "p_value = compare_strike[1]\n",
    "\n",
    "# print test statistics\n",
    "print(\"t = \" + format(t_value, '.3f')) # normal formatting\n",
    "print(\"p = \" + format(p_value, '.3e')) # scientific notation"
   ]
  }
 ],
 "metadata": {
  "kernelspec": {
   "display_name": "Python 3",
   "language": "python",
   "name": "python3"
  },
  "language_info": {
   "codemirror_mode": {
    "name": "ipython",
    "version": 3
   },
   "file_extension": ".py",
   "mimetype": "text/x-python",
   "name": "python",
   "nbconvert_exporter": "python",
   "pygments_lexer": "ipython3",
   "version": "3.6.9"
  }
 },
 "nbformat": 4,
 "nbformat_minor": 2
}
