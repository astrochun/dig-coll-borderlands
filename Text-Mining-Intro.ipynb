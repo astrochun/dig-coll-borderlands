{
 "cells": [
  {
   "cell_type": "markdown",
   "metadata": {},
   "source": [
    "# Introduction to text mining\n",
    "\n",
    "After this lesson, students will be able to:\n",
    "\n",
    "1. Explain the difference between a code block and a text block in Jupyter Notebooks\n",
    "2. Write a short command in Python and execute the command\n",
    "3. Execute pre-written Python code to create a word frequency through time plot\n",
    "4. Explain what a file path is\n",
    "5. Describe how to choose words for searching\n",
    "6. Update Python code to perform word frequency calculations on different newspaper title\n",
    "7. Create a plot showing word frequency over time on a chosen newspaper and time frame"
   ]
  },
  {
   "cell_type": "markdown",
   "metadata": {},
   "source": [
    "## 1. Explain the difference between a code block and a markdown block in Jupyter Notebooks"
   ]
  },
  {
   "cell_type": "code",
   "execution_count": 12,
   "metadata": {},
   "outputs": [],
   "source": [
    "# Some code here, like a print statement"
   ]
  },
  {
   "cell_type": "markdown",
   "metadata": {},
   "source": [
    "## 2. Write a short command in Python and execute the command "
   ]
  },
  {
   "cell_type": "code",
   "execution_count": 13,
   "metadata": {},
   "outputs": [],
   "source": [
    "# Write a print statement from scratch, point out importance of quotation marks"
   ]
  },
  {
   "cell_type": "markdown",
   "metadata": {},
   "source": [
    "## 3. Execute pre-written Python code to create a word frequency through time plot\n",
    "\n",
    "Here we need to introduce the concept of what we are doing. Talk about word frequencies, the data we are working with, and what our outcome can tell us. Probably want to talk about it in terms of the 1918 pandemic"
   ]
  },
  {
   "cell_type": "code",
   "execution_count": 14,
   "metadata": {},
   "outputs": [],
   "source": [
    "# Code for creating a word frequency plot. bisbee-daily-review, two years, word: \"influenza\""
   ]
  },
  {
   "cell_type": "markdown",
   "metadata": {},
   "source": [
    "## 4. Explain what a file path is\n",
    "\n",
    "Need to have a nice graphic showing file paths?\n",
    "```\n",
    "data  \n",
    "  + sample  \n",
    "      + border-vidette  \n",
    "      + bisbee-daily-review  \n",
    "      + el-tucsonense  \n",
    "```"
   ]
  },
  {
   "cell_type": "markdown",
   "metadata": {},
   "source": [
    "## 5. Describe how to choose words for searching\n",
    "\n",
    "Need to have students recognize that it is doing _exact_ matching and what the ramifications are for this."
   ]
  },
  {
   "cell_type": "code",
   "execution_count": 15,
   "metadata": {},
   "outputs": [],
   "source": [
    "# A copy of the word frequency code\n",
    "# During the lesson, add the word \"flu\" to the list of words being searched for"
   ]
  },
  {
   "cell_type": "markdown",
   "metadata": {},
   "source": [
    "## 6. Update python code to perform word frequency calculations on different newspaper title"
   ]
  },
  {
   "cell_type": "code",
   "execution_count": 16,
   "metadata": {},
   "outputs": [],
   "source": [
    "# Code for plotting, but will need to change the newspaper title \n",
    "# For notebook, leave it as a copy of what we did before, but during \n",
    "# the lesson, change:\n",
    "#    + newspaper title to el-tucsonsense\n",
    "#    + language to spanish"
   ]
  },
  {
   "cell_type": "markdown",
   "metadata": {},
   "source": [
    "## 7. Create a plot showing word frequency over time on a chosen newspaper and time frame"
   ]
  },
  {
   "cell_type": "code",
   "execution_count": 17,
   "metadata": {},
   "outputs": [],
   "source": [
    "# Code for plotting, with variables for students to change: title, language, years, words"
   ]
  },
  {
   "cell_type": "markdown",
   "metadata": {},
   "source": [
    "Something to indicate the close of the lesson"
   ]
  }
 ],
 "metadata": {
  "kernelspec": {
   "display_name": "Python 3",
   "language": "python",
   "name": "python3"
  },
  "language_info": {
   "codemirror_mode": {
    "name": "ipython",
    "version": 3
   },
   "file_extension": ".py",
   "mimetype": "text/x-python",
   "name": "python",
   "nbconvert_exporter": "python",
   "pygments_lexer": "ipython3",
   "version": "3.8.2"
  }
 },
 "nbformat": 4,
 "nbformat_minor": 4
}
